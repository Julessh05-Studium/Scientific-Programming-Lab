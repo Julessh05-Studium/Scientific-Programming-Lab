{
 "cells": [
  {
   "cell_type": "markdown",
   "metadata": {},
   "source": [
    "# Taschenrechner\n",
    "\n",
    "## Teil 3) Taschenrechner für komplexe Zahlen mit User-Eingabe\n",
    "Implementieren Sie einen Taschenrechner für komplexe Zahlen:\n",
    "- Eingabe von komplexen Zahlen\n",
    "- Zugriff auf alle Rechenoperationen\n",
    "- Visualisierungen der Zahlen und Rechnungen mittels Diagramme\n",
    "<br>\n",
    "\n",
    "Konzipieren Sie eine geeignete Nutzerführung mittels Textausgabe und Textkommandos. Geben Sie aussagekräftige Fehlermeldungen bei Bedienfehlern"
   ]
  },
  {
   "cell_type": "markdown",
   "metadata": {},
   "source": [
    "## Komplexe Zahlen\n",
    "Zuallererst benötigen wir die implementation der Komplexen Zahlen, um den Taschenrechner zu realisieren"
   ]
  },
  {
   "cell_type": "code",
   "execution_count": 2,
   "metadata": {},
   "outputs": [],
   "source": [
    "#Note:\n",
    "#__truediv__ and __rtruediv__ not fully implemented\n",
    "#\n",
    "class KomplexeZahl():\n",
    "    def __init__(self,real=0,imaginaer=0):\n",
    "        self.real=real\n",
    "        self.imaginaer=imaginaer\n",
    "    def __add__(self,other):\n",
    "        if(type(other)==KomplexeZahl):\n",
    "            return KomplexeZahl(self.real+other.real,self.imaginaer+other.imaginaer)\n",
    "        elif(type(other)==int or type(other)==float):\n",
    "            return KomplexeZahl(self.real+other,self.imaginaer)\n",
    "        else:\n",
    "            raise KomplexError\n",
    "    def __sub__(self,other):\n",
    "        if(type(other)==KomplexeZahl):\n",
    "            return KomplexeZahl(self.real-other.real,self.imaginaer-other.imaginaer)\n",
    "        elif(type(other)==int or type(other)==float):\n",
    "           return KomplexeZahl(self.real-other,self.imaginaer)\n",
    "        else:\n",
    "            raise KomplexError\n",
    "    def __mul__(self,other):\n",
    "        if(type(other)==KomplexeZahl):\n",
    "            return KomplexeZahl(self.real*other.real-self.imaginaer*other.imaginaer,\n",
    "                                self.real*other.imaginaer+self.imaginaer*other.real)\n",
    "        elif(type(other)==int or type(other)==float):\n",
    "            return KomplexeZahl(self.real*other,self.imaginaer*other)\n",
    "        else:\n",
    "            raise KomplexError\n",
    "    def __truediv__(self,other):\n",
    "        if(type(other)==KomplexeZahl):\n",
    "            pass\n",
    "        elif(type(other)==int or type(other)==float):\n",
    "            return KomplexeZahl(self.real/other,self.imaginaer/other)\n",
    "        else:\n",
    "            raise KomplexError\n",
    "    def __radd__(self,other):\n",
    "        if(type(other)==int or type(other)==float):\n",
    "            return KomplexeZahl(self.real+other,self.imaginaer)\n",
    "        else:\n",
    "            raise KomplexError\n",
    "    def __rsub__(self,other):\n",
    "        if(type(other)==int or type(other)==float):\n",
    "            return KomplexeZahl(other-self.real,-self.imaginaer)\n",
    "        else:\n",
    "            raise KomplexError\n",
    "    def __rmul__(self,other):\n",
    "        if(type(other)==int or type(other)==float):\n",
    "            return KomplexeZahl(self.real*other,self.imaginaer*other)\n",
    "        else:\n",
    "            raise TypeError\n",
    "    def __rtruediv__(self,other):\n",
    "        if(type(other)==int or type(other)==float):\n",
    "            pass\n",
    "        else:\n",
    "            raise KomplexError\n",
    "    def __str__(self):\n",
    "        return (f\"{self.real if self.real!=0 else ''} {'{0:{1}}i'.format(self.imaginaer, '+' if self.real else '') if self.imaginaer!=0 else ''}\") #{'+' if self.real!=0 else ''}"
   ]
  },
  {
   "cell_type": "markdown",
   "metadata": {},
   "source": [
    "<hr><br> \n",
    "Implementation des Errors."
   ]
  },
  {
   "cell_type": "code",
   "execution_count": 3,
   "metadata": {},
   "outputs": [],
   "source": [
    "def KomplexError(Exception):\n",
    "    pass"
   ]
  },
  {
   "cell_type": "markdown",
   "metadata": {},
   "source": [
    "## Aufbau User-Eingabe\n",
    "Da die Rechnung grafisch dargestellt werden soll, ist die User-Eingabe in Rechnung und Komplexe Zahlen unterteilt. <br>\n",
    "Die Eingabe selbst wird erst am Ende des Kapitels ihren Platz finden, da davor die Abhängigkeiten besporchen und implementiert werden müssen."
   ]
  },
  {
   "cell_type": "markdown",
   "metadata": {},
   "source": [
    "# Definition Rechnung\n",
    "Um die Rechenart zu erfassen, wird zuerst eine Fallunterscheidung benötigt. Dabei sind die vier Zeichen wie folgt definiert:\n",
    "- $+$ &nbsp;&nbsp;&nbsp;&nbsp;in der Methode add()\n",
    "- $-$ &nbsp;&nbsp;&nbsp;&nbsp;in der Methode sub()\n",
    "- $*$ &nbsp;&nbsp;&nbsp;&nbsp;in der Methode mul()\n",
    "- $/$ &nbsp;&nbsp;&nbsp;&nbsp;in der Methode div()\n",
    "\n",
    "Die Funktionen erstellen zudem auch die grafische Darstellung der Komplexen Zahlen und eine Legende, die selbige beschreibt."
   ]
  },
  {
   "cell_type": "code",
   "execution_count": 4,
   "metadata": {
    "scrolled": true
   },
   "outputs": [],
   "source": [
    "def add():\n",
    "    zahl1=Eingabe(\"Bitte erste komplexe Zahl eingeben: \")\n",
    "    zahl2=Eingabe(\"Bitte zweite komplexe Zahl eingaben: \")\n",
    "    x=plt.quiver([0], [0], [zahl1.real], [zahl1.imaginaer], \n",
    "               color='g', scale_units='xy', scale=1, label='zahl1')\n",
    "    y=plt.quiver([zahl1.real],[zahl1.imaginaer],[zahl2.real],[zahl2.imaginaer], \n",
    "               color='b',angles='xy', scale_units='xy', scale=1, label='zahl2')\n",
    "    z=plt.quiver([0],[0],[zahl1.real+zahl2.real],[zahl1.imaginaer+zahl2.imaginaer],\n",
    "                 color='r',angles='xy', scale_units='xy', scale=1, label='zahl2')\n",
    "    plt.legend([x,y,z],['Zahl1', 'Zahl2', 'Ergebnis'], loc='upper left')\n",
    "    plt.show()"
   ]
  },
  {
   "cell_type": "code",
   "execution_count": 5,
   "metadata": {},
   "outputs": [],
   "source": [
    "def sub():\n",
    "    zahl1=Eingabe(\"Bitte erste komplexe Zahl eingeben: \")\n",
    "    zahl2=Eingabe(\"Bitte zweite komplexe Zahl eingaben: \") \n",
    "    x=plt.quiver([0], [0], [zahl1.real], [zahl1.imaginaer], \n",
    "               color='g',angles='xy', scale_units='xy', scale=1, label='zahl1')\n",
    "    y=plt.quiver([zahl1.real],[zahl1.imaginaer],[-zahl2.real],[-zahl2.imaginaer], \n",
    "               color='b',angles='xy', scale_units='xy', scale=1, label='zahl2')\n",
    "    z=plt.quiver([0], [0], [zahl1.real-zahl2.real], [zahl1.imaginaer-zahl2.imaginaer], \n",
    "               color='r',angles='xy', scale_units='xy', scale=1,label='ergebnis')\n",
    "    plt.legend([x,y,z],['Zahl1', 'Zahl2', 'Ergebnis'], loc='upper left')\n",
    "    plt.show()"
   ]
  },
  {
   "cell_type": "code",
   "execution_count": 6,
   "metadata": {},
   "outputs": [],
   "source": [
    "def div(ax):\n",
    "    zahl1=Eingabe(\"Bitte erste komplexe Zahl eingeben: \")\n",
    "    zahl2=Eingabe(\"Bitte zweite komplexe Zahl eingaben: \")\n",
    "    x=plt.quiver([0], [0], [zahl1.real], [zahl1.imaginaer], \n",
    "               color='g',angles='xy', scale_units='xy', scale=1, label='zahl1')\n",
    "    y=plt.quiver([0], [0], [zahl2.real], [zahl2.imaginaer], \n",
    "               color='b',angles='xy', scale_units='xy', scale=1, label='zahl1')\n",
    "    erg=zahl1/zahl2\n",
    "    z=GradiantVector(erg.real,erg.imaginaer)\n",
    "    arc=Winkel(ax,erg.real,erg.imaginaer)\n",
    "    plt.legend([x,y,z,arc],['Zahl1', 'Zahl2', 'Längen dividiert','Winkel subtrahiert'], loc='upper left')\n",
    "    plt.show()"
   ]
  },
  {
   "cell_type": "code",
   "execution_count": 7,
   "metadata": {},
   "outputs": [],
   "source": [
    "def mul(ax):\n",
    "    zahl1=Eingabe(\"Bitte erste komplexe Zahl eingeben: \")\n",
    "    zahl2=Eingabe(\"Bitte zweite komplexe Zahl eingaben: \")\n",
    "    x=plt.quiver([0], [0], [zahl1.real], [zahl1.imaginaer], \n",
    "               color='g',angles='xy', scale_units='xy', scale=1, label='zahl1')\n",
    "    y=plt.quiver([0], [0], [zahl2.real], [zahl2.imaginaer], \n",
    "               color='b',angles='xy', scale_units='xy', scale=1, label='zahl1')\n",
    "    erg=zahl1*zahl2\n",
    "    z=GradiantVector(erg.real,erg.imaginaer)\n",
    "    arc=Winkel(ax,erg.real,erg.imaginaer)\n",
    "    plt.legend([x,y,z,arc],['Zahl1', 'Zahl2', 'Längen multipliziert','Winkel addiert'], loc='upper left')\n",
    "    plt.show()"
   ]
  },
  {
   "cell_type": "markdown",
   "metadata": {},
   "source": [
    "## Eingabe Komplexe Zahlen\n",
    "Im Kontrast zu den Rechnungen ist die Eingabe der Komplexen Zahlen ist etwas komplizierter, deswegen ist Sie weiter unterteilt. \n",
    "Folgend wird die Eingabe des Nutzers abgefragt und weitergegeben. Zudem werden auch Leerzeichen und andere Füllzeichen entfernt."
   ]
  },
  {
   "cell_type": "code",
   "execution_count": 8,
   "metadata": {},
   "outputs": [],
   "source": [
    "def Eingabe(Satz):\n",
    "    print(Satz)\n",
    "    #später die komplexe Zahl\n",
    "    komplex=None\n",
    "    \n",
    "    #solange die Eingabe falsch ist wiederholen\n",
    "    while(komplex==None):\n",
    "\n",
    "        #Eingabe des Nutzers\n",
    "        Eingabe=input()\n",
    "\n",
    "        #Leerzeichen aus der Eingabe entfernen\n",
    "        stripedeingabe=''\n",
    "        for i in Eingabe:\n",
    "            stripedeingabe=stripedeingabe+( i if i!=' ' else '')\n",
    "\n",
    "        #komplex wird gesetzt, falls die Eingabe richtig war,\n",
    "        #sonst wird die Schleife wiederholt\n",
    "        try:\n",
    "            komplex=ChecktheString(stripedeingabe.strip())\n",
    "        except (KomplexError):\n",
    "            continue\n",
    "\n",
    "        #rückgabe der Zahl\n",
    "        return komplex"
   ]
  },
  {
   "cell_type": "markdown",
   "metadata": {},
   "source": [
    "<hr>\n",
    "Der formatierte String wird nun an die Funktion ChecktheString() weitergegeben, die verschiedenste Methoden aufruft, um den String auf Richtigkeit zu überprüfen und ihn schlussendlich an Rechnen() weitergibt. <br> Um die Überprüfungen zu tätigen wird hier re importiert. re steht für Regular Expression und hilft bei der Stringformatierung. <br> Zudem wird math für die Sinus, Kosinus und Power Funktion importiert.<br>\n",
    "Zuletzt wird die Zahl als Komplexe Zahl zurückgegeben."
   ]
  },
  {
   "cell_type": "code",
   "execution_count": 9,
   "metadata": {},
   "outputs": [],
   "source": [
    "import re\n",
    "import math\n",
    "def ChecktheString(string):\n",
    "#string=\"2pi+isin(2pi)\"\n",
    "#fehler string=\"2\"\n",
    "    #string=\"i\"\n",
    "    Checkchars(string)\n",
    "               \n",
    "    string=Checkdouble(string)\n",
    "\n",
    "    string=Checkbracketstandart(string)\n",
    "\n",
    "    string=re.sub(r\"sin\",\"Sin\",string)\n",
    "\n",
    "    Check_i_sin_cos(string)\n",
    "\n",
    "    string=Checkpi(string)\n",
    "    \n",
    "    Checkbrackets(string)\n",
    "    #Checkfirstchar(string)\n",
    "    \n",
    "    string=StandartizeI(string)\n",
    "    #klammern auflösen\n",
    "    getclamps=re.compile(r\"\\(([0-9\\.a-zA-Z\\+\\-\\*\\/\\^\\$\\_]*?)\\)\")  \n",
    "    komplex=None\n",
    "    geti=re.compile(r\"[\\+\\-]?(.+?)(?=[\\+\\-]?)\")\n",
    "    while True:\n",
    "        clamps=re.search(getclamps,string)\n",
    "        supstring=re.sub(getclamps,'_',string,count=1)\n",
    "        if(supstring!=string):\n",
    "\n",
    "\n",
    "            #klammer beinhaltet i\n",
    "            if(re.search(r\"(?<![sScC])[iI]\",clamps.group(1))!=None or re.search(r\"\\$\",clamps.group(1))!=None):\n",
    "                Check_i_bracket(supstring)\n",
    "                komplex=re.sub(r\"[iI]\",\"(i)\",clamps.group(1),count=1)\n",
    "                try:\n",
    "                    #hier\n",
    "                    komplex=Rechnen(komplex,KomplexeZahl(0,1))\n",
    "                except:\n",
    "                    print(\"etwas ist schiefgelaufen\")\n",
    "                    raise KomplexError\n",
    "                string=re.sub(r\"\\_\",\"$\",supstring,count=1)\n",
    "\n",
    "            #klammer ohne i\n",
    "            else:\n",
    "                \n",
    "                try:\n",
    "                    erg=Rechnen(clamps.group(1))\n",
    "                except:\n",
    "                    print(\"etwas ist schiefgelaufen\")\n",
    "                    raise KomplexError\n",
    "                    \n",
    "                string=Brackethandler(supstring,erg)\n",
    "                \n",
    "        else:\n",
    "            #keine Kalmmer mehr,die Schleife wird verlassen\n",
    "            break\n",
    "\n",
    "    if(komplex==None):\n",
    "        komplex=re.sub(r\"[iI]\",\"(i)\",string,count=1)\n",
    "        try:\n",
    "            komplex=Rechnen(komplex,KomplexeZahl(0,1))\n",
    "        except:\n",
    "            print(\"etwas ist schiefgelaufen\")\n",
    "            raise KomplexError\n",
    "    else:\n",
    "        string=re.sub(r\"\\$\",\"(i)\",string,count=1)\n",
    "        try:\n",
    "            komplex=Rechnen(string,komplex)\n",
    "        except:\n",
    "            print(\"etwas ist schiefgelaufen\")\n",
    "            raise KomplexError\n",
    "    #komplex ist die zahl\n",
    "    return komplex if type(komplex)==KomplexeZahl else KomplexeZahl(komplex,0)"
   ]
  },
  {
   "cell_type": "markdown",
   "metadata": {},
   "source": [
    "<hr><br>\n",
    "Checkchars() prüft, ob der String Zeichen nutzt, die für die Rechnung nicht benötigt werden.\n",
    "Dabei wird jedes Zeichen auf alle verwendbaren Zeichen überprüft."
   ]
  },
  {
   "cell_type": "code",
   "execution_count": 10,
   "metadata": {},
   "outputs": [],
   "source": [
    "def Checkchars(string):\n",
    "    #auf falsche Zeichen prüfen\n",
    "    checkchars=re.compile(r\"[0-9sSiInpPcCo\\(\\)\\+\\*\\-\\/\\.\\^]\")\n",
    "    for i in string:\n",
    "        if(re.search(checkchars,i)==None):\n",
    "            print(\"falsche Zeichen benutzt\",i)\n",
    "            raise KomplexError"
   ]
  },
  {
   "cell_type": "markdown",
   "metadata": {},
   "source": [
    "<hr><br> \n",
    "Checkdouble() prüft auf doppelte Vorzeichen und ersetzt sie. "
   ]
  },
  {
   "cell_type": "code",
   "execution_count": 11,
   "metadata": {},
   "outputs": [],
   "source": [
    "def Checkdouble(string):\n",
    "    \n",
    "    string=re.sub(r\"(?:\\+\\-)|(?:\\-\\+)\",\"-\",string)\n",
    "\n",
    "    string=re.sub(r\"(?:\\+\\+)|(?:\\-\\-)\",\"+\",string)\n",
    "    return string"
   ]
  },
  {
   "cell_type": "markdown",
   "metadata": {},
   "source": [
    "<hr><br>\n",
    "Checkbracketstandart() prüft, ob bei Klammern die Kurzschreibweise genutzt wurde und fügt normalisiert sie gegebenenfalls."
   ]
  },
  {
   "cell_type": "code",
   "execution_count": 13,
   "metadata": {},
   "outputs": [],
   "source": [
    "def Checkbracketstandart(string):\n",
    "    \n",
    "    string=re.sub(r\"(?<=[0-9iI\\)])\\(\",\"*(\",string)\n",
    "\n",
    "    string=re.sub(r\"(?=[0-9iIsScC])\\)\",\")*\",string)\n",
    "    return string"
   ]
  },
  {
   "cell_type": "markdown",
   "metadata": {},
   "source": [
    "<hr><br>Check_i_sin_cos() prüft ob die restlichen Buchstaben namentlich <b>s</b>,<b>c</b>, <b>n</b>,<b>o</b> und <b>i</b> richtig benutzt wurden und es nur ein <b>i</b> (imaginäre Einheit) gibt."
   ]
  },
  {
   "cell_type": "code",
   "execution_count": 14,
   "metadata": {},
   "outputs": [],
   "source": [
    "def Check_i_sin_cos(string):\n",
    "    #auf i,s,p,c,o prüfen\n",
    "    checki=re.compile(r\".*[iI].*[iI].*\")\n",
    "    checksin=re.compile(r\"[sS]in\\((.+?)\\)\")\n",
    "    checkpi=re.compile(r\"[pP]i\")\n",
    "    checkcos=re.compile(r\"[cC]os\\((.+?)\\)\")\n",
    "    istring=re.sub(checksin,'€',string)\n",
    "    istring=re.sub(checkpi,'_',istring)\n",
    "    istring=re.sub(checkcos,'&',istring)\n",
    "    if(re.fullmatch(checki,istring)!=None):\n",
    "        print(\"zu viele i werte vorhanden\")\n",
    "        raise KomplexError\n",
    "    if(re.search(r\"[sSpPcCo]\",istring)!=None):\n",
    "        print(\"s,p,c,o falsch benutzt\")\n",
    "        raise KomplexError\n"
   ]
  },
  {
   "cell_type": "markdown",
   "metadata": {},
   "source": [
    "<hr><br> \n",
    "Checkpi() prüft ob die Kurzschreibweise mit $pi$ verwendet wurde und ein $mal$ hinzugefügt werden muss.\n",
    "Da später anhand von Rechenzeichen die Komplexe Zahl auf die normale Schreibweise gebracht wird. Zudem wird $pi$ in eine annährende Kommazahl umgewandelt."
   ]
  },
  {
   "cell_type": "code",
   "execution_count": 15,
   "metadata": {},
   "outputs": [],
   "source": [
    "def Checkpi(string):\n",
    "    #pi normieren und auflösen\n",
    "    prepi=re.search(r\"([0-9])[pP]i\",string)\n",
    "    while(prepi!=None):\n",
    "        string=re.sub(r\"[0-9][pP]i\",(prepi.group(1)+\"*pi\"),string)\n",
    "        prepi=re.search(r\"([0-9])[pP]i\",string)\n",
    "    \n",
    "    postpi=re.search(r\"[pP]i([0-9])\",string)\n",
    "    while(postpi!=None):\n",
    "        string=re.sub(r\"[pP]i[0-9]\",(\"pi*\"+postpi.group(1)),string)\n",
    "        postpi=re.search(r\"[pP]i([0-9])\",string)\n",
    "    string=re.sub(r\"[pP]i\",\"3.14159265\",string)\n",
    "    return string"
   ]
  },
  {
   "cell_type": "markdown",
   "metadata": {},
   "source": [
    "<hr><br>\n",
    "Checkbrackets() prüft, ob die Anzahl der öffnenden Klammern auf die Anzal der schliesenden Klammern passt."
   ]
  },
  {
   "cell_type": "code",
   "execution_count": 16,
   "metadata": {},
   "outputs": [],
   "source": [
    "def Checkbrackets(string):\n",
    "    #auf klammern prüfen\n",
    "    klammern=0\n",
    "    for i in string:\n",
    "        if(i=='('):\n",
    "            klammern+=1\n",
    "        elif(i==')'):\n",
    "            klammern-=1\n",
    "    if(klammern!=0):\n",
    "        print(\"klammern sind falsch gesetzt\")\n",
    "        raise KomplexError"
   ]
  },
  {
   "cell_type": "markdown",
   "metadata": {},
   "source": [
    "<hr><br>\n",
    "Checkfirstchar() ist eine veraltete Prüfung, ob der String mit einem vorzeichen beginnt. Da es aber auch möglich ist, dass eine Klammer mit vorzeichen beginnt und die Funktion Probleme mit Strings der Länge 1 hatte, wurde diese Überprüfung verschoben."
   ]
  },
  {
   "cell_type": "code",
   "execution_count": 17,
   "metadata": {},
   "outputs": [],
   "source": [
    "def Checkfirstchar(string):\n",
    "    #falsch\n",
    "    #auf richtiges verwenden von vorzeichen an erster stelle prüfen\n",
    "    checkneg=re.compile(r\"([+-]?)(?(1)(\\(|sin\\(|i|cos\\(|[0-9])|$)(.+)\")\n",
    "    if(re.fullmatch(checkneg,string)==None):    #and len(string)>1\n",
    "        print(\"schlechte vorzeichensetzung\")\n",
    "        raise KomplexError"
   ]
  },
  {
   "cell_type": "markdown",
   "metadata": {},
   "source": [
    "<hr><br>\n",
    "StandartizeI() prüft wie Checkpi() darauf, ob die Kürzung für $i$ genutzt wurde. Zudem wird geprüft, ob $i$ alleinestehend ist."
   ]
  },
  {
   "cell_type": "code",
   "execution_count": 18,
   "metadata": {},
   "outputs": [],
   "source": [
    "def StandartizeI(string):\n",
    "    #i standartisieren\n",
    "    checksti=re.compile(r\"([0-9\\)])[iI](?![sn])\")\n",
    "    getsti=re.search(checksti,string)\n",
    "    if(getsti!=None):\n",
    "        string=re.sub(checksti,f'{getsti.group(1)}*i',string,count=1)\n",
    "    checksti2=re.compile(r\"(?<![sScC])[iI]([0-9\\(Sc])\")\n",
    "    getsti2=re.search(checksti2,string)\n",
    "    if(getsti2!=None):\n",
    "        string=re.sub(checksti2,f'i*{getsti2.group(1)}',string,count=1)\n",
    "    #nicht sicher ob es wichtig ist\n",
    "    checkonlyi=re.compile(r\"(\\*)?[iI](?(1)(?:\\*)?|\\*)\")\n",
    "    if(re.search(checkonlyi,string)==None):\n",
    "        string=re.sub(r\"[iI](?![sn])\",'1*i',string,count=1)\n",
    "    return string"
   ]
  },
  {
   "cell_type": "markdown",
   "metadata": {},
   "source": [
    "<hr><br>\n",
    "\n",
    "Check_i_bracket() prüft, ob $i$ manipuliert wird. Verboten ist \n",
    "- $sin(i)$\n",
    "- $cos(i)$\n",
    "- $i^2$"
   ]
  },
  {
   "cell_type": "code",
   "execution_count": 19,
   "metadata": {},
   "outputs": [],
   "source": [
    "def Check_i_bracket(supstring):\n",
    "    #i mit speziellen Klammern und Potenzen prüfen\n",
    "    checksin2=re.compile(r\"[sS]in_\")\n",
    "    checkcos2=re.compile(r\"[cC]os_\")\n",
    "    checkpow2=re.compile(r\"(\\^)?_(?(1)\\^?|\\^)\")\n",
    "    if(re.search(checksin2,supstring)!=None):\n",
    "        print(\"sin darf nicht mit i benutzt werden\")\n",
    "        raise KomplexError\n",
    "    elif(re.search(checkcos2,supstring)!=None):\n",
    "        print(\"cos darf nicht mit i benutzt werden\")\n",
    "        raise KomplexError\n",
    "    elif(re.search(checkpow2,supstring)!=None):\n",
    "        print(\"i darf nicht potenziert werden\")\n",
    "        raise KomplexError\n"
   ]
  },
  {
   "cell_type": "markdown",
   "metadata": {},
   "source": [
    "<hr><br>\n",
    "\n",
    "Brackethandler() überprüft nach dem ausrechnen einer Klammer, ob das Ergebnis noch weiter manipuliert werden muss, beispielsweise durch $sin$."
   ]
  },
  {
   "cell_type": "code",
   "execution_count": 20,
   "metadata": {},
   "outputs": [],
   "source": [
    "def Brackethandler(supstring,erg):\n",
    "    #wie mit dem Ergebnis der Klammer umgegangen werden soll\n",
    "    string=''\n",
    "    if(re.search(r\"[sS]in_\",supstring)!=None):\n",
    "        neg=0\n",
    "        if(re.search(r\"\\-[sS]in\\_\",supstring)!=None):\n",
    "            neg=1\n",
    "        supstring=re.sub(r\"[\\+\\-]?[sS]in\\_\",\"_\",supstring,count=1)\n",
    "        if(neg==1):\n",
    "            erg=-math.sin(erg)\n",
    "        else:\n",
    "            erg=math.sin(erg)\n",
    "        erg=round(erg,7)\n",
    "        string=re.sub(r\"\\_\",f\"{erg:+}\",supstring,count=1)\n",
    "    elif(re.search(r\"[cC]os_\",supstring)!=None):\n",
    "        neg=0\n",
    "        if(re.search(r\"\\-[cC]os\\_\",supstring)!=None):\n",
    "            neg=1\n",
    "        supstring=re.sub(r\"[\\+\\-]?[cC]os\\_\",\"_\",supstring,count=1)\n",
    "        if(neg==1):\n",
    "            erg=-math.cos(erg)\n",
    "        else:\n",
    "            erg=math.cos(erg)\n",
    "        erg=round(erg,7)\n",
    "        string=re.sub(r\"\\_\",f\"{erg:+}\",supstring,count=1)\n",
    "    else:\n",
    "        string=re.sub(r\"\\_\",f\"{erg}\",supstring,count=1)\n",
    "    return string"
   ]
  },
  {
   "cell_type": "markdown",
   "metadata": {},
   "source": [
    "# Rechnen\n",
    "Die Rechnen() Funktion erhält einen String, und wahlweise eine komplexe Zahl. Die Rechnung wird rekursiv ausgeführt und gibt dann das Ergebnis entweder als Komplexe Zahl oder als $float$ Wert zurück."
   ]
  },
  {
   "cell_type": "code",
   "execution_count": 21,
   "metadata": {
    "scrolled": true
   },
   "outputs": [],
   "source": [
    "def Rechnen(str, komplex=None):\n",
    "    if(str[0]==\"+\" or str[0]==\"-\"):\n",
    "        str=\"0\"+str\n",
    "    rechn=None\n",
    "    if(str==\"(i)\"):\n",
    "        return komplex\n",
    "    str=re.sub(r\"(?<=[\\*\\/\\^])[\\+]\",\"&\",str)\n",
    "    str=re.sub(r\"(?<=[\\*\\/\\^])[\\-]\",\"€\",str)\n",
    "    erg=re.split(r\"[\\+\\-](?!.*[\\+\\-])\",str,maxsplit=1)\n",
    "    rechn=re.search(r\"[\\+\\-](?!.*[\\+\\-])\",str)\n",
    "    str=re.sub(r\"(?<=[\\*\\/\\^])[\\&]\",\"+\",str)\n",
    "    str=re.sub(r\"(?<=[\\*\\/\\^])[\\€]\",\"-\",str)\n",
    "    if(len(erg)==2):\n",
    "        erg[0]=re.sub(r\"(?<=[\\*\\/\\^])[\\&]\",\"+\",erg[0])\n",
    "        erg[1]=re.sub(r\"(?<=[\\*\\/\\^])[\\&]\",\"+\",erg[1])\n",
    "        erg[0]=re.sub(r\"(?<=[\\*\\/\\^])[\\€]\",\"-\",erg[0])\n",
    "        erg[1]=re.sub(r\"(?<=[\\*\\/\\^])[\\€]\",\"-\",erg[1])\n",
    "        erg[0]=Rechnen(erg[0],komplex)\n",
    "        erg[1]=Rechnen(erg[1],komplex)\n",
    "    else:\n",
    "        erg[0]=re.sub(r\"(?<=[\\*\\/\\^])[\\&]\",\"+\",erg[0])\n",
    "        erg[0]=re.sub(r\"(?<=[\\*\\/\\^])[\\€]\",\"-\",erg[0])\n",
    "        erg=re.split(r\"[\\*\\/](?!.*[\\*\\/])\",erg[0],maxsplit=1)\n",
    "        rechn=re.search(r\"[\\*\\/](?!.*[\\*\\/])\",str)\n",
    "        if(len(erg)==2):\n",
    "            erg[0]=Rechnen(erg[0],komplex)\n",
    "            erg[1]=Rechnen(erg[1],komplex)\n",
    "        else:\n",
    "            erg=re.split(r\"\\^\",erg[0])\n",
    "            tmperg=float(erg[0])\n",
    "            del(erg[0])\n",
    "            for i in erg:\n",
    "                tmperg=float(math.pow(tmperg,float(i)))\n",
    "            erg=tmperg\n",
    "    #print(\"erg\",erg,\"rechn\",rechn,\"str\",str)\n",
    "    if(type(erg)==float):\n",
    "        return erg\n",
    "    else:\n",
    "        rechn=rechn.group(0)\n",
    "        if(rechn==\"+\"):\n",
    "            return (erg[0]+erg[1])\n",
    "        elif(rechn==\"-\"):\n",
    "            return (erg[0]-erg[1])\n",
    "        elif(rechn==\"*\"):\n",
    "            return (erg[0]*erg[1])\n",
    "        elif(rechn==\"/\"):\n",
    "            if(erg[1]==0):\n",
    "                print(\"Durch Null teilen ist nicht möglich\")\n",
    "                raise KomplexError\n",
    "            return (erg[0]/erg[1])\n",
    "        else:\n",
    "            return erg[0]\n",
    "            #....\n",
    "     #formel mit (i) als komplexer zahl\n",
    "     #besitzt keine klammern,sin,cos,pi,freie i\n",
    "     #kein ^ mit i\n",
    "     #wichtig - am anfang ist möglich"
   ]
  },
  {
   "cell_type": "markdown",
   "metadata": {},
   "source": [
    "# Grafische Oberfläche\n",
    "Um die Zahlen und die Rechnung grafisch darzustellen, wird Matplotlib mit numpy benutzt.<br>\n",
    "Setplot() erstellt eine Standart-Oberfläche in Form eines Koordinatensystems in dem dann die Rechnung abgebildet wird."
   ]
  },
  {
   "cell_type": "code",
   "execution_count": 22,
   "metadata": {},
   "outputs": [],
   "source": [
    "import numpy as np                 # v 1.19.2\n",
    "import matplotlib.pyplot as plt    # v 3.3.2\n",
    "\n",
    "def Setplot():\n",
    "    # Select length of axes and the space between tick labels\n",
    "    xmin, xmax, ymin, ymax = -10, 10, -10, 10\n",
    "    ticks_frequency = 1\n",
    "    \n",
    "    # Plot points\n",
    "    fig, ax = plt.subplots(figsize=(10, 10))\n",
    "    \n",
    "    # Set identical scales for both axes\n",
    "    ax.set(xlim=(xmin-1, xmax+1), ylim=(ymin-1, ymax+1), aspect='equal')\n",
    "    \n",
    "    # Set bottom and left spines as x and y axes of coordinate system\n",
    "    ax.spines['bottom'].set_position('zero')\n",
    "    ax.spines['left'].set_position('zero')\n",
    "    \n",
    "    # Remove top and right spines\n",
    "    ax.spines['top'].set_visible(False)\n",
    "    ax.spines['right'].set_visible(False)\n",
    "    \n",
    "    # Create 'x' and 'y' labels placed at the end of the axes\n",
    "    ax.set_xlabel('x', size=14, labelpad=-24, x=1.03)\n",
    "    ax.set_ylabel('y', size=14, labelpad=-21, y=1.02, rotation=0)\n",
    "    \n",
    "    # Create custom major ticks to determine position of tick labels\n",
    "    x_ticks = np.arange(xmin, xmax+1, ticks_frequency)\n",
    "    y_ticks = np.arange(ymin, ymax+1, ticks_frequency)\n",
    "    ax.set_xticks(x_ticks[x_ticks != 0])\n",
    "    ax.set_yticks(y_ticks[y_ticks != 0])\n",
    "    \n",
    "    # Create minor ticks placed at each integer to enable drawing of minor grid\n",
    "    # lines: note that this has no effect in this example with ticks_frequency=1\n",
    "    ax.set_xticks(np.arange(xmin, xmax+1), minor=True)\n",
    "    ax.set_yticks(np.arange(ymin, ymax+1), minor=True)\n",
    "    \n",
    "    # Draw major and minor grid lines\n",
    "    ax.grid(which='both', color='grey', linewidth=1, linestyle='-', alpha=0.2)\n",
    "    \n",
    "    # Draw arrows\n",
    "    arrow_fmt = dict(markersize=4, color='black', clip_on=False)\n",
    "    ax.plot((1), (0), marker='>', transform=ax.get_yaxis_transform(), **arrow_fmt)\n",
    "    ax.plot((0), (1), marker='^', transform=ax.get_xaxis_transform(), **arrow_fmt)\n",
    "    return ax"
   ]
  },
  {
   "cell_type": "markdown",
   "metadata": {},
   "source": [
    "# Darstellung\n",
    "Es folgen noch zwei Funktionen, die bei der Darstellung helfen.\n",
    "\n",
    "GradiantVector() stellt einen zweifarbigen Vektor dar, der mit der Multiplikation der Länge der anderen beiden Vektoren definiert ist."
   ]
  },
  {
   "cell_type": "code",
   "execution_count": 23,
   "metadata": {},
   "outputs": [],
   "source": [
    "from matplotlib.colors import LinearSegmentedColormap\n",
    "def GradiantVector(x,y):\n",
    "    # Define the starting point and vector components\n",
    "    x0, y0 = 0, 0  # Starting point (origin)\n",
    "    U, V = x,y  # Vector components (U: x-component, V: y-component)\n",
    "    \n",
    "    # Number of segments along the arrow (including tip)\n",
    "    num_segments = 10\n",
    "    \n",
    "    # Create a linearly spaced set of points along the vector (for the color gradient)\n",
    "    x_vals = np.linspace(x0, x0 + U, num_segments)\n",
    "    y_vals = np.linspace(y0, y0 + V, num_segments)\n",
    "    \n",
    "    # Calculate the magnitude at each point\n",
    "    magnitude = np.sqrt(x_vals**2 + y_vals**2)\n",
    "    \n",
    "    # Plot segments of the vector with varying shades of green based on the magnitude*\n",
    "    \n",
    "    for i in range(1, num_segments-1,2):\n",
    "        plt.plot([x_vals[i-1], x_vals[i]], [y_vals[i-1], y_vals[i]], \n",
    "                 color='g', linewidth=3)\n",
    "    \n",
    "    # Optionally: Add the entire arrow with a color gradient\n",
    "    vec=plt.quiver(x0, y0, U, V, angles='xy', scale_units='xy', scale=1, color='b', width=0.005)\n",
    "    \n",
    "    return vec"
   ]
  },
  {
   "cell_type": "markdown",
   "metadata": {},
   "source": [
    "<hr><br>\n",
    "Winkel() stellt einen Winkel dar, der durch die Addition der beiden Winkel der anderen Zahlen definiert ist."
   ]
  },
  {
   "cell_type": "code",
   "execution_count": 24,
   "metadata": {},
   "outputs": [],
   "source": [
    "from matplotlib.colors import LinearSegmentedColormap\n",
    "import matplotlib.patches as patches\n",
    "\n",
    "def Winkel(ax,V,U):\n",
    "    # Calculate the angle in radians and convert to degree\n",
    "    angle_rad = np.arctan2(U,V)  # Angle between vector and x-axis in radians\n",
    "    angle_deg = np.degrees(angle_rad)  # Convert to degrees\n",
    "    \n",
    "    # Draw the arc representing the angle\n",
    "    arc = patches.Arc((0,0), width=2, height=2, angle=0, theta1=0, theta2=angle_deg, color='black', lw=2, linestyle='--')\n",
    "    ax.add_patch(arc)\n",
    "    return arc"
   ]
  },
  {
   "cell_type": "markdown",
   "metadata": {},
   "source": [
    "# User-Eingabe\n",
    "Schlussendlich kommt noch die User-Eingabe. Erst muss die Rechnung eingegeben werden, von der aus das Programm dann die jeweilige Funktion aufruft, die dann über die Eingabe der zwei Komplexen Zahlen eine Rechnung durchführt und schlussendlich grafisch darstellt."
   ]
  },
  {
   "cell_type": "code",
   "execution_count": 26,
   "metadata": {
    "scrolled": true
   },
   "outputs": [
    {
     "name": "stdout",
     "output_type": "stream",
     "text": [
      "Welche Rechnung möchtest du durchführen(+-*/): \n"
     ]
    },
    {
     "name": "stdin",
     "output_type": "stream",
     "text": [
      " *\n"
     ]
    },
    {
     "name": "stdout",
     "output_type": "stream",
     "text": [
      "Bitte erste komplexe Zahl eingeben: \n"
     ]
    },
    {
     "name": "stdin",
     "output_type": "stream",
     "text": [
      " 3i\n"
     ]
    },
    {
     "name": "stdout",
     "output_type": "stream",
     "text": [
      "Bitte zweite komplexe Zahl eingaben: \n"
     ]
    },
    {
     "name": "stdin",
     "output_type": "stream",
     "text": [
      " 3-i\n"
     ]
    },
    {
     "data": {
      "image/png": "[encoded data removed]",
      "text/plain": [
       "<Figure size 1000x1000 with 1 Axes>"
      ]
     },
     "metadata": {},
     "output_type": "display_data"
    }
   ],
   "source": [
    "ax=Setplot()\n",
    "print(\"Welche Rechnung möchtest du durchführen(+-*/): \")\n",
    "operator= input()\n",
    "match (operator):\n",
    "    case \"+\":\n",
    "        add()\n",
    "    case \"-\":\n",
    "        sub()\n",
    "    case \"/\":\n",
    "        div(ax)\n",
    "    case \"*\":\n",
    "        mul(ax)\n",
    "    case _:\n",
    "        print(f\"{operator} ist keine gültige Eingabe\")\n",
    "#2/3*(-4^-2+-sin(5)i)\n",
    "#2.5*(cos(4)+sin(3)i)\n",
    "#2(cos(30pi/180)+isin(30pi/180))"
   ]
  },
  {
   "cell_type": "code",
   "execution_count": null,
   "metadata": {},
   "outputs": [],
   "source": []
  }
 ],
 "metadata": {
  "kernelspec": {
   "display_name": "Python 3 (ipykernel)",
   "language": "python",
   "name": "python3"
  },
  "language_info": {
   "codemirror_mode": {
    "name": "ipython",
    "version": 3
   },
   "file_extension": ".py",
   "mimetype": "text/x-python",
   "name": "python",
   "nbconvert_exporter": "python",
   "pygments_lexer": "ipython3",
   "version": "3.11.0"
  }
 },
 "nbformat": 4,
 "nbformat_minor": 4
}
