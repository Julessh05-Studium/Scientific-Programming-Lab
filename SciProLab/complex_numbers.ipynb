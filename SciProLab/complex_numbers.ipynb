{
 "cells": [
  {
   "metadata": {
    "ExecuteTime": {
     "end_time": "2025-02-05T12:33:06.866998Z",
     "start_time": "2025-02-05T12:33:06.275876Z"
    }
   },
   "cell_type": "code",
   "source": [
    "# %matplotlib widget\n",
    "# ACHTUNG:  Bei manchen Jupyter-Installationen funktioniert kein 'widget'.\n",
    "#           In diesem Fall muss '%matplotlib notebook' auskommentiert und\n",
    "#           die obere Zeile einkommentiert werden.\n",
    "# %matplotlib notebook\n",
    "\n",
    "import math\n",
    "import unittest\n",
    "import matplotlib.pyplot as plt\n",
    "import matplotlib.patches as patches\n",
    "from matplotlib.patches import Circle\n",
    "import re\n",
    "import numpy as np"
   ],
   "id": "66f8696d1c35a344",
   "outputs": [],
   "execution_count": 1
  },
  {
   "metadata": {
    "ExecuteTime": {
     "end_time": "2025-02-05T12:33:15.669415Z",
     "start_time": "2025-02-05T12:33:15.662176Z"
    }
   },
   "cell_type": "code",
   "source": [
    "%%html\n",
    "<!--Bitte diese Cell mit Run ausführen, damit die Styles geladen werden-->\n",
    "<!--Bei Änderungen des CSS muss das Notebook im Browser neu geladen werden-->\n",
    "<link rel=\"stylesheet\" href=\"./styles/sciprolab.css\">"
   ],
   "id": "eca3ad3b49cae8c",
   "outputs": [
    {
     "data": {
      "text/plain": [
       "<IPython.core.display.HTML object>"
      ],
      "text/html": [
       "<!--Bitte diese Cell mit Run ausführen, damit die Styles geladen werden-->\n",
       "<!--Bei Änderungen des CSS muss das Notebook im Browser neu geladen werden-->\n",
       "<link rel=\"stylesheet\" href=\"./styles/sciprolab.css\">\n"
      ]
     },
     "metadata": {},
     "output_type": "display_data"
    }
   ],
   "execution_count": 3
  },
  {
   "metadata": {},
   "cell_type": "markdown",
   "source": "# Komplexe Zahlen",
   "id": "e3f057165545db05"
  },
  {
   "metadata": {},
   "cell_type": "markdown",
   "source": [
    "## Was sind komplexe Zahlen?\n",
    "\n",
    "Komplexe Zahlen erweitern die reellen Zahlen, sodass auch Gleichungen wie $\\sqrt{-1} = i$ lösbar werden."
   ],
   "id": "1e64bfcdef98a2e0"
  },
  {
   "metadata": {},
   "cell_type": "markdown",
   "source": [
    "## Menge der komplexen Zahlen\n",
    "Die Menge der komplexen Zahlen ist definiert als \\\n",
    "$$\n",
    "\\mathbb{C} = \\{a + bi | a, b \\in \\mathbb{R}, i^2 = -1\\}\n",
    "$$\n",
    "Diese Definition beschreibt die komplexen Zahlen als Zahlen, die sich aus einem realen Teil ($a$) und einem imaginären Teil ($b$) zusammensetzen, wobei der imaginäre Teil mit der imaginären Einheit $i$ multipliziert wird."
   ],
   "id": "42bbd55f3a229cdc"
  },
  {
   "metadata": {},
   "cell_type": "markdown",
   "source": [
    "## Darstellung\n",
    "\n",
    "Eine komplexe Zahl hat die Form\n",
    "$$\n",
    "z = a + bi\n",
    "$$\n",
    "wobei:\n",
    "- $a$ der reale Teil ist,\n",
    "- $b$ der imaginäre Teil ist,\n",
    "- $i$ die imaginäre Einheit ist, definiert durch $i^2 = -1$"
   ],
   "id": "1914da7b16cdefef"
  },
  {
   "metadata": {},
   "cell_type": "markdown",
   "source": [
    "## Beziehung zu anderen Zahlengruppen\n",
    "\n",
    "Komplexe Zahlen erweitern die Menge der reellen Zahlen $\\mathbb{R}$ und bauen auf anderen Zahlenmengen auf.\n",
    "\n",
    "### 1. Natürliche Zahlen ($\\mathbb{N}$)\n",
    "\n",
    "* **Definition:** Positive ganze Zahlen (1, 2, 3, ...)\n",
    "* **Beziehung zu komplexen Zahlen:**: Die natürlichen Zahlen sind in den komplexen Zahlen enthalten, da jede natürliche Zahl als komplexe Zahl mit einem Imaginärteil von 0 dargestellt werden kann ($n = n + 0i)$.\n",
    "\n",
    "### 2. Ganze Zahlen ($\\mathbb{Z}$)\n",
    "\n",
    "* **Definition:** Alle positiven und negativen Zahlen, einschließlich 0 (..., -2, -1, 0, 1, 2,...)\n",
    "* **Beziehung zu komplexen Zahlen:** Ganze Zahlen sind ebenfalls Teil der komplexen Zahlen, da jede ganze Zahl in der Form z = n + 0i geschrieben werden kann\n",
    "\n",
    "### 3. Rationale Zahlen ($\\mathbb{Q}$)\n",
    "\n",
    "* **Definition:** Brüche der Form $\\frac{p}{q}$, wobei $p, q \\in \\mathbb{Z}$ und $p ≠ q$\n",
    "* **Beziehung zu komplexen Zahlen:** Rationale Zahlen können als komplexe Zahlen mit Imaginärteil 0 dargestellt werden ($\\frac{p}{q} = \\frac{p}{q} + 0i$)\n",
    "\n",
    "### 4. Reelle Zahlen ($\\mathbb{R}$)\n",
    "\n",
    "* **Definition:** Zahlen, die auf der reellen Zahlengeraden liegen, einschließlich rationaler und irrationaler Zahlen\n",
    "* **Beziehung zu komplexen Zahlen:** Jede reelle Zahl ist eine spezielle komplexe Zahl mit einem Imaginärteil von ($x = x + 0i$). Die reellen Zahlen bilden also eine Teilmenge der komplexen Zahlen.\n",
    "\n",
    "### 5. Imaginäre Zahlen\n",
    "\n",
    "* **Definition:** Zahlen, die das Produkt einer rellen Zahl und der imaginären Einheit i sind ($bi$, wobei $b \\in \\mathbb{R}$\n",
    "* **Beziehung zu komplexen Zahlen:** Imaginäre Zahlen sind spezielle komplexe Zahlen, bei denen der Realteil 0 ist ($z = 0 + bi$)\n",
    "\n",
    "### Zusammenfassung\n",
    "\n",
    "Natürliche Zahlen $\\mathbb{N}$, Ganze Zahlen $\\mathbb{Z}$ und Rationale Zahlen $\\mathbb{Q}$ sind Teilmengen der reellen Zahlen $\\mathbb{R}$, und daher auch von $\\mathbb{C}$.\n",
    "Mit anderen Worten, jede natürliche, ganze oder rationale Zahl kann als komplexe Zahl mit Imaginärteil 0 betrachtet werden.\n",
    "$$\n",
    "\\mathbb{N} \\subseteq \\mathbb{Z} \\subseteq \\mathbb{Q} \\subseteq \\mathbb{R} \\subseteq \\mathbb{C}\n",
    "$$"
   ],
   "id": "704663c130e41b11"
  },
  {
   "metadata": {},
   "cell_type": "markdown",
   "source": [
    "## Anwendung\n",
    "\n",
    "Komplexe Zahlen werden in vielen Bereichen der Mathematik, Physik, Technik und Informatik verwendet, da sie Probleme lösen, die mit reellen Zahlen alleine nicht lösbar wären.\n",
    "\n",
    "### Beispiele\n",
    "\n",
    "#### 1. Mathe und Geometrie\n",
    "\n",
    "* **Fraktale:** Viele Fraktale, wie das berühmte Mandelbrot-Set, basieren auf iterativen Berechnungen mit komplexen Zahlen\n",
    "* **Lösungen von Polynomgleichungen:** Gemäß dem Fundamentalsatz der Algebra hat jedes Polynom mindestens eine Lösung in den komplexen Zahlen.\n",
    "* **Drehung und Skalierungen:** In der Geometrie repräsentieren komplexe Zahlen Transformationen, wie Drehungen und Streckungen\n",
    "\n",
    "#### 2. Informatik\n",
    "\n",
    "* **Grafikprogrammierung:** Komplexe Zahlen helfen bei Transformationen und Animationen, insbesondere bei der Darstellung von Rotationen.\n",
    "* **Kryptografie:** Einige Algorithmen (z.B. RSA) verwenden algebraische Erweiterungen, die auf komplexen Zahlen basieren, um effizienze Primzahltests und Faktorisierungen durchzuführen\n",
    "\n",
    "#### 3. Astronomie und Physik\n",
    "\n",
    "* **Relativitätstheorie:** In der allgemeinen und speziellen Relativitätstheorie werden komplexe Zahlen und ähnliche Konzepte (z.B. Minkoswki-Raum) verwendet, um Raum und Zeit zu modellieren\n",
    "* **Streuung und Interferenz:** In der Wellenphysik werden komplexe Zahlen verwendet, um die Amplituden von Wellen zu beschreiben und deren Wechselwirkungen (wie Streuung und Interferenz) zu verstehen\n",
    "* **Himmelsmechanik:** Die Bewegung von Himmelskörpern und Satelliten kann mit komplexen Zahlen beschrieben werden, insbesondere bei der Berechnung von Bahnen und Umlaufgeschwindigkeiten\n",
    "\n",
    "#### 4. Steuerungssysteme\n",
    "\n",
    "* **Regelungstechnik:** In der Regelungstechnik werden komplexe Zahlen zur Analyse von Systemstabilität und -verhalten (z.B. mit der Laplace-Transformation) genutzt.\n",
    "\n",
    "#### 5. Akkustik und Musik\n",
    "\n",
    "* **Harmonische Analyse:** Komplexe Zahlen werden in der Akkustik verwendet, um harmonische Wellen und die Frequenzkomponenten von Schallwellen zu analysieren"
   ],
   "id": "26add12076411208"
  },
  {
   "metadata": {
    "ExecuteTime": {
     "end_time": "2025-02-05T12:35:15.711323Z",
     "start_time": "2025-02-05T12:35:15.696929Z"
    }
   },
   "cell_type": "code",
   "source": [
    "class ComplexNumberError(Exception):\n",
    "    pass\n",
    "\n",
    "class ComplexZeroError(Exception):\n",
    "    pass\n",
    "\n",
    "\n",
    "class ComplexNumber:\n",
    "\n",
    "    def __init__(self, real, imag):\n",
    "        if not isinstance(real, (int, float)) or not isinstance(imag, (int, float)):\n",
    "            raise TypeError(\"Die Eingabewerte müssen Zahlen (int oder float) sein.\")\n",
    "        self.real = real\n",
    "        self.imag = imag\n",
    "\n",
    "    def __repr__(self):\n",
    "        return f\"ComplexNumber({self.real}, {self.imag})\"\n",
    "\n",
    "    def __str__(self):\n",
    "        if self.imag >= 0:\n",
    "            return f\"{self.real} + {self.imag}i\"\n",
    "        else:\n",
    "            return f\"{self.real} - {-self.imag}i\"\n",
    "\n",
    "    def get_real(self):\n",
    "        return self.real\n",
    "\n",
    "    def get_imag(self):\n",
    "        return self.imag\n",
    "\n",
    "    def __add__(self, other):\n",
    "        if type(other) in (int,float):\n",
    "            new_real = self.real + other\n",
    "            new_imag = self.imag\n",
    "            return ComplexNumber(new_real, new_imag)\n",
    "        elif type(other) == ComplexNumber:\n",
    "            new_real = self.real + other.real\n",
    "            new_imag = self.imag + other.imag\n",
    "            return ComplexNumber(new_real, new_imag)\n",
    "        else:\n",
    "            raise TypeError\n",
    "\n",
    "    def __sub__(self, other):\n",
    "        if type(other) in (int,float):\n",
    "            new_real = self.real - other\n",
    "            new_imag = self.imag\n",
    "            return ComplexNumber(new_real, new_imag)\n",
    "        elif type(other) == ComplexNumber:\n",
    "            new_real = self.real - other.real\n",
    "            new_imag = self.imag - other.imag\n",
    "            return ComplexNumber(new_real, new_imag)\n",
    "        else:\n",
    "            raise TypeError\n",
    "\n",
    "    def __mul__(self,other):\n",
    "        if type(other) in (int,float):\n",
    "            new_real = self.real * other\n",
    "            new_imag = self.imag * other\n",
    "            return ComplexNumber(new_real, new_imag)\n",
    "        elif type(other) == ComplexNumber:\n",
    "            new_real = self.real * other.real - self.imag * other.imag\n",
    "            new_imag = self.real * other.imag + self.imag * other.real\n",
    "            return ComplexNumber(new_real, new_imag)\n",
    "        else:\n",
    "            raise TypeError\n",
    "\n",
    "    def __truediv__(self,other):\n",
    "        if type(other) in (int,float):\n",
    "            new_real = self.real / other\n",
    "            new_imag = self.imag / other\n",
    "            return ComplexNumber(new_real, new_imag)\n",
    "        elif type(other) == ComplexNumber:\n",
    "            if other.real == 0 and other.imag == 0:\n",
    "                raise ComplexNumberError(\"Division durch Null ist nicht definiert für komplexe Zahlen.\")\n",
    "            div = other.real**2 + other.imag**2\n",
    "            new_real = (self.real * other.real + self.imag * other.imag) / div\n",
    "            new_imag = (self.imag * other.real - self.real * other.imag) / div\n",
    "            return ComplexNumber(new_real, new_imag)\n",
    "        else:\n",
    "            raise TypeError\n",
    "\n",
    "    def __radd__(self,other):\n",
    "        return self + other\n",
    "\n",
    "    def __rsub__(self,other):\n",
    "        if type(other) in (float,int):\n",
    "            return ComplexNumber(other-self.real,-self.imag)\n",
    "        else:\n",
    "            raise TypeError\n",
    "\n",
    "    def __rmul__(self,other):\n",
    "        return self * other\n",
    "\n",
    "    def __rtruediv__(self,other):\n",
    "        if type(other) in (int,float):\n",
    "            return ComplexNumber(other,0) / self\n",
    "        else:\n",
    "            raise TypeError\n",
    "\n",
    "\n",
    "    def __eq__(self,other):\n",
    "        return self.real == other.real and self.imag == other.imag\n",
    "    \"\"\"def __eq__(self, other):\n",
    "        tolerance = 1e-14  # Toleranzbereich für den Vergleich\n",
    "        return abs(self.real - other.real) < tolerance and abs(self.imag - other.imag) < tolerance  \"\"\"\n",
    "\n",
    "    def is_real(self):\n",
    "        return self.imag == 0\n",
    "\n",
    "    def __pow__(self, power):\n",
    "        \"\"\"Potenzieren einer komplexen Zahl\"\"\"\n",
    "        r, theta = self.to_polar()  # Umrechnung in Polarform\n",
    "        r_new = r ** power\n",
    "        theta_new = theta * power\n",
    "        return self.to_cart(r_new, theta_new)\n",
    "\n",
    "    def to_real(self):\n",
    "        \"Prüft, ob die Zahl reell ist und gibt sie als reelle Zahl zurück\"\n",
    "        if self.imag == 0:\n",
    "            return self.real\n",
    "        else:\n",
    "            return self\n",
    "\n",
    "    def to_polar(self):\n",
    "        \"Umrechnung von kartesischen Koordinaten (Real, Imaginär) in Polarkoordinaten (r, theta)\"\n",
    "        if self.real == 0:\n",
    "            raise ComplexZeroError\n",
    "        else:\n",
    "            r = math.sqrt(self.real**2 + self.imag**2)\n",
    "            theta = math.atan2(self.imag, self.real)\n",
    "            return r, theta\n",
    "\n",
    "    def to_cart(self, r, theta):\n",
    "        \"\"\"Umrechnung von Polarkoordinaten (r, theta) in kartesische Koordinaten (Real, Imaginär)\"\"\"\n",
    "        real = r * math.cos(theta)\n",
    "        imag = r * math.sin(theta)\n",
    "        return ComplexNumber(real, imag)\n",
    "\n",
    "    def conjugate(self):\n",
    "        return ComplexNumber(self.real, -self.imag)\n",
    "\n",
    "    def to_tuple(self):\n",
    "        return (self.real, self.imag)"
   ],
   "id": "d72b8dba01cfbffe",
   "outputs": [],
   "execution_count": 9
  },
  {
   "metadata": {},
   "cell_type": "markdown",
   "source": [
    "## Tests\n",
    "\n",
    "Um Fehler mit falschen Typeingaben oder falsche Implementierungen erkennen zu können, werden Tests benutzt. Die Tests für die Klasse 'ComplexNumber' stehen im folgenden Codeblock"
   ],
   "id": "27e8edf59ccc030d"
  },
  {
   "metadata": {
    "ExecuteTime": {
     "end_time": "2025-02-05T12:35:34.830376Z",
     "start_time": "2025-02-05T12:35:34.813203Z"
    }
   },
   "cell_type": "code",
   "source": [
    "class TestComplexNumber(unittest.TestCase):\n",
    "\n",
    "    def test_init_valid(self):\n",
    "        # Test gültige Eingabewerte\n",
    "        cn = ComplexNumber(3, 4)\n",
    "        self.assertEqual(cn.get_real(), 3)\n",
    "        self.assertEqual(cn.get_imag(), 4)\n",
    "\n",
    "    def test_init_invalid(self):\n",
    "        # Test ungültige Eingabewerte\n",
    "        with self.assertRaises(TypeError):\n",
    "            ComplexNumber(3, \"4\")\n",
    "        with self.assertRaises(TypeError):\n",
    "            ComplexNumber(\"3\", 4)\n",
    "\n",
    "    def test_repr(self):\n",
    "        # Test die __repr__ Methode\n",
    "        cn = ComplexNumber(3, 4)\n",
    "        self.assertEqual(repr(cn), \"ComplexNumber(3, 4)\")\n",
    "\n",
    "    def test_str(self):\n",
    "        # Test die __str__ Methode\n",
    "        cn1 = ComplexNumber(3, 4)\n",
    "        cn2 = ComplexNumber(3, -4)\n",
    "        self.assertEqual(str(cn1), \"3 + 4i\")\n",
    "        self.assertEqual(str(cn2), \"3 - 4i\")\n",
    "\n",
    "    def test_add(self):\n",
    "        # Test Addition von komplexen Zahlen\n",
    "        cn1 = ComplexNumber(3, 4)\n",
    "        cn2 = ComplexNumber(1, 2)\n",
    "        result = cn1 + cn2\n",
    "        self.assertEqual(result.get_real(), 4)\n",
    "        self.assertEqual(result.get_imag(), 6)\n",
    "\n",
    "    def test_sub(self):\n",
    "        # Test Subtraktion von komplexen Zahlen\n",
    "        cn1 = ComplexNumber(3, 4)\n",
    "        cn2 = ComplexNumber(1, 2)\n",
    "        result = cn1 - cn2\n",
    "        self.assertEqual(result.get_real(), 2)\n",
    "        self.assertEqual(result.get_imag(), 2)\n",
    "\n",
    "    def test_mul(self):\n",
    "        # Test Multiplikation von komplexen Zahlen\n",
    "        cn1 = ComplexNumber(3, 4)\n",
    "        cn2 = ComplexNumber(1, 2)\n",
    "        result = cn1 * cn2\n",
    "        self.assertEqual(result.get_real(), -5)\n",
    "        self.assertEqual(result.get_imag(), 10)\n",
    "\n",
    "    def test_truediv(self):\n",
    "        # Test Division von komplexen Zahlen\n",
    "        cn1 = ComplexNumber(3, 4)\n",
    "        cn2 = ComplexNumber(1, 2)\n",
    "        result = cn1 / cn2\n",
    "        self.assertAlmostEqual(result.get_real(), 2.2, places=1)\n",
    "        self.assertAlmostEqual(result.get_imag(), -0.4, places=1)\n",
    "\n",
    "    def test_truediv_zero_divisor(self):\n",
    "        # Test Division durch Null\n",
    "        cn1 = ComplexNumber(3, 4)\n",
    "        cn2 = ComplexNumber(0, 0)\n",
    "        with self.assertRaises(ComplexNumberError):\n",
    "            cn1 / cn2\n",
    "\n",
    "    def test_eq(self):\n",
    "        # Test Vergleich von komplexen Zahlen\n",
    "        cn1 = ComplexNumber(3, 4)\n",
    "        cn2 = ComplexNumber(3, 4)\n",
    "        cn3 = ComplexNumber(2, 4)\n",
    "        self.assertTrue(cn1 == cn2)\n",
    "        self.assertFalse(cn1 == cn3)\n",
    "\n",
    "    def test_is_real(self):\n",
    "        # Test, ob die Zahl reell ist\n",
    "        cn1 = ComplexNumber(3, 0)\n",
    "        cn2 = ComplexNumber(3, 4)\n",
    "        self.assertTrue(cn1.is_real())\n",
    "        self.assertFalse(cn2.is_real())\n",
    "\n",
    "    def test_pow(self):\n",
    "        # Test Potenzierung einer komplexen Zahl\n",
    "        cn = ComplexNumber(1, 1)\n",
    "        result = cn ** 2\n",
    "        self.assertAlmostEqual(result.get_real(), 0)\n",
    "        self.assertAlmostEqual(result.get_imag(), 2)\n",
    "\n",
    "    def test_to_real(self):\n",
    "        # Test, ob die Zahl reell ist und als reelle Zahl zurückgegeben wird\n",
    "        cn1 = ComplexNumber(3, 0)\n",
    "        cn2 = ComplexNumber(3, 4)\n",
    "        self.assertEqual(cn1.to_real(), 3)\n",
    "        self.assertEqual(cn2.to_real(), cn2)\n",
    "\n",
    "    def test_to_polar(self):\n",
    "        # Test Umrechnung in Polarform\n",
    "        cn = ComplexNumber(1, 1)\n",
    "        r, theta = cn.to_polar()\n",
    "        self.assertAlmostEqual(r, math.sqrt(2), places=5)\n",
    "        self.assertAlmostEqual(theta, math.pi / 4, places=5)\n",
    "\n",
    "    def test_conjugate(self):\n",
    "        # Test der Konjugierten\n",
    "        cn = ComplexNumber(3, 4)\n",
    "        result = cn.conjugate()\n",
    "        self.assertEqual(result.get_real(), 3)\n",
    "        self.assertEqual(result.get_imag(), -4)\n",
    "\n",
    "    def test_to_tuple(self):\n",
    "        # Test Umwandlung in ein Tupel\n",
    "        cn = ComplexNumber(3, 4)\n",
    "        self.assertEqual(cn.to_tuple(), (3, 4))\n",
    "\n",
    "\n",
    "if __name__ == '__main__':\n",
    "    unittest.main(argv=[\"\"], exit=False)"
   ],
   "id": "e112cef887104f53",
   "outputs": [
    {
     "name": "stderr",
     "output_type": "stream",
     "text": [
      "................\n",
      "----------------------------------------------------------------------\n",
      "Ran 16 tests in 0.005s\n",
      "\n",
      "OK\n"
     ]
    }
   ],
   "execution_count": 11
  },
  {
   "metadata": {},
   "cell_type": "markdown",
   "source": [
    "# Diagramme\n",
    "\n",
    "Komplexe Zahlen können auf verschiedene Arten dargestellt werden, basierend auf der Schreibweise und der Koordinatenart."
   ],
   "id": "ed1d3d139d4eafff"
  },
  {
   "metadata": {},
   "cell_type": "markdown",
   "source": [
    "### kartesische vs. Polarkoordinaten\n",
    "\n",
    "Wie bereits in der Einführung erklärt, können komplexe Zahlen als Punkte in einem kartesischen 2D Koordinatensystem dargestellt werden, mit sogenannten kartesischen Koordinaten.\n",
    "Es gibt jedoch noch eine andere Schreibweise komplexe Zahlen darzustellen, die sogenannten Polarkoordinaten.\n",
    "Der Gedanke hinter dieser Darstellung ist, dass man eine Zahl $r$ hat, welche den Betrag des Ortsvektors zum Punkt $P$ bzw. er komplexen Zahl $c$ angibt, und einen Winkel $\\phi$, welcher den Winkel des Vektors zur Realachse, also der x-Achse angibt. Damit kann man ebenfalls den Ortsvektor bestimmen und damit auch die komplexe Zahl $c$.\n",
    "Nachfolgend eine Klasse zur Implementierung der komplexen Zahlen mit Polarkoordinaten. Da alle Operationen und Methoden auf der `ComplexNumber` Klasse aufbauen, enthält diese nur die nötigsten Methoden."
   ],
   "id": "258c451728f294fd"
  },
  {
   "metadata": {},
   "cell_type": "markdown",
   "source": [
    "<div class=\"definition\">\n",
    "    <h3>Polarkoordinaten</h3>\n",
    "    Polarkoordinaten stellen einen Punkt im 2D Raum dar, indem sie den Betrag des Ortsvektors und den Winkel der x-Achse nutzen um diesen Punkt zu bestimmen.\n",
    "</div>"
   ],
   "id": "1090a8a5207e78e6"
  },
  {
   "metadata": {
    "ExecuteTime": {
     "end_time": "2025-02-05T12:35:39.416858Z",
     "start_time": "2025-02-05T12:35:39.412816Z"
    }
   },
   "cell_type": "code",
   "source": [
    "class PolarComplexNumber:\n",
    "\n",
    "    def __init__(self, r, theta):\n",
    "        self.r = r\n",
    "        self.theta = theta\n",
    "\n",
    "    def __str__(self):\n",
    "        return f\"PolarComplexNumber({self.r}, {self.theta})\\nnumber: {self.r} + e^({self.theta}i)\"\n",
    "\n",
    "    def to_cartesian(self) -> 'ComplexNumber':\n",
    "        return ComplexNumber(self.r * math.cos(self.theta), self.r * math.sin(self.theta))"
   ],
   "id": "a0595535eff37d72",
   "outputs": [],
   "execution_count": 12
  },
  {
   "metadata": {},
   "cell_type": "markdown",
   "source": [
    "## Darstellung\n",
    "\n",
    "Die komplexen Zahlen können mit den folgenden Funktionen in Koordinatensystemen dargestellt werden:"
   ],
   "id": "718d108453acc232"
  },
  {
   "metadata": {
    "ExecuteTime": {
     "end_time": "2025-02-05T12:35:40.984023Z",
     "start_time": "2025-02-05T12:35:40.828027Z"
    }
   },
   "cell_type": "code",
   "source": [
    "def show_in_cart(c):\n",
    "    plt.figure(figsize=(6, 6))\n",
    "    plt.axhline(0, color='black', linewidth=1.0, linestyle='solid')\n",
    "    plt.axvline(0, color='black', linewidth=1.0, linestyle='solid')\n",
    "    for n in c:\n",
    "        plt.plot(n.real, n.imag, 'bo')\n",
    "    plt.xlim(-3, 3)\n",
    "    plt.ylim(-3, 3)\n",
    "    plt.title(f\"Komplexe Zahlen im kartesischen Koordinatensystem\")\n",
    "    plt.grid(color='gray', which='both')\n",
    "    plt.show()\n",
    "\n",
    "show_in_cart([ComplexNumber(0.2, 2), ComplexNumber(-1.5, 0.6), ComplexNumber(1, -1.8)])"
   ],
   "id": "b87af4de7e277251",
   "outputs": [
    {
     "data": {
      "text/plain": [
       "<Figure size 600x600 with 1 Axes>"
      ],
      "image/png": "[encoded data removed]"
     },
     "metadata": {},
     "output_type": "display_data"
    }
   ],
   "execution_count": 13
  },
  {
   "metadata": {},
   "cell_type": "markdown",
   "source": "mit Polarkoordinaten:",
   "id": "37bc3b56c8853c62"
  },
  {
   "metadata": {
    "ExecuteTime": {
     "end_time": "2025-02-05T12:35:59.341060Z",
     "start_time": "2025-02-05T12:35:59.211670Z"
    }
   },
   "cell_type": "code",
   "source": [
    "def show_in_polar(c):\n",
    "    fig, ax = plt.subplots(subplot_kw={'projection': 'polar'})\n",
    "    for n in c:\n",
    "        r, theta = n.to_polar()\n",
    "        ax.set_rticks([1, 2, 3])\n",
    "        ax.scatter(theta, r, color='b')\n",
    "        ax.set_title(\"Komplexe Zahlen in Polardarstellung\")\n",
    "\n",
    "show_in_polar([ComplexNumber(0.2, 2), ComplexNumber(-1.5, 0.6), ComplexNumber(1, -1.8)])"
   ],
   "id": "9d679af9aa11208a",
   "outputs": [
    {
     "data": {
      "text/plain": [
       "<Figure size 640x480 with 1 Axes>"
      ],
      "image/png": "[encoded data removed]"
     },
     "metadata": {},
     "output_type": "display_data"
    }
   ],
   "execution_count": 15
  },
  {
   "metadata": {},
   "cell_type": "markdown",
   "source": [
    "# Taschenrechner\n",
    "\n",
    "Selbstverständlich kann mit komplexen Zahlen auch gerechnet werden. Hierfür wird ein Taschenrechner implementiert, welcher die vom Nutzer eingegebenen komplexen Zahlen mit der jeweils ausgewählten Operation verrechnet"
   ],
   "id": "2dc3242e64f557c0"
  },
  {
   "metadata": {},
   "cell_type": "markdown",
   "source": [
    "## Aufbau Nutzereingabe\n",
    "\n",
    "Da die Rechnung grafisch dargestellt werden soll, ist die Nutzereingabe in Rechnung und Komplexe Zahlen unterteilt.\n",
    "Die Eingabe selbst findet später ihren Platz, vorhergehend werden Abhänigkeiten besprochen und implementiert."
   ],
   "id": "883211482f917e64"
  },
  {
   "metadata": {},
   "cell_type": "markdown",
   "source": [
    "## Eingabe\n",
    "\n",
    "Die Eingabe und Erfassung der komplexen Zahlen ist etwas anspruchsvoller, weshalb sie weiterhin unterteilt ist. Folgend wird die Eingabe des Nutzers abgefragt und nach Entfernen von Leerzeichen und anderen Füllzeichen an andere Methoden weitergegeben."
   ],
   "id": "6ca54618ed6a9bc2"
  },
  {
   "metadata": {
    "ExecuteTime": {
     "end_time": "2025-02-05T12:36:01.708809Z",
     "start_time": "2025-02-05T12:36:01.704615Z"
    }
   },
   "cell_type": "code",
   "source": [
    "def eingabe(satz):\n",
    "    print(satz)\n",
    "    # später die komplexe Zahl\n",
    "    komplex = None\n",
    "    # solange die Eingabe falsch ist wiederholen\n",
    "    while komplex is None:\n",
    "        # Eingabe des Nutzers\n",
    "        eingabe = input()\n",
    "        # Leerzeichen aus der Eingabe entfernen\n",
    "        striped_eingabe=''\n",
    "        for i in eingabe:\n",
    "            striped_eingabe = striped_eingabe+( i if i != ' ' else '')\n",
    "        # komplex wird gesetzt, falls die Eingabe richtig war,\n",
    "        # sonst wird die Schleife wiederholt\n",
    "        try:\n",
    "            komplex = check_the_string(striped_eingabe.strip())\n",
    "        except ComplexNumberError:\n",
    "            continue\n",
    "    # Rückgabe der Zahl\n",
    "    return komplex"
   ],
   "id": "8b396db3686578f6",
   "outputs": [],
   "execution_count": 16
  },
  {
   "metadata": {},
   "cell_type": "markdown",
   "source": [
    "Hier wird der formatierte String nun an die Funktion check_the_string() weitergegeben, die verschiedenste Methoden aufruft, um den String auf Richtigkeit zu überprüfen und ihn schlussendlich an die Methode rechnen() weitergibt.\n",
    "Um die Überprüfung zu tätigen, wird das Modul 're' importiert, welches für Regular Expression steht und bei der Formatierung von Strings hilft.\n",
    "Zudem wird die math Bibliothek benutzt."
   ],
   "id": "1e39a9e670934e33"
  },
  {
   "metadata": {},
   "cell_type": "markdown",
   "source": [
    "### String überprüfen\n",
    "\n",
    "Um zu überprüfen, ob der String Zeichen nutzt, die für die Rechnung nicht benötigt werden, gibt es die Methoden check_the_string() und check_chars(). Hier werden alle Zeichen auf die verwendbaren Zeichen überprüft."
   ],
   "id": "4562bd615c94c8ab"
  },
  {
   "metadata": {
    "ExecuteTime": {
     "end_time": "2025-02-05T12:36:03.396547Z",
     "start_time": "2025-02-05T12:36:03.389487Z"
    }
   },
   "cell_type": "code",
   "source": [
    "def check_the_string(string):\n",
    "    # string=\"2pi+isin(2pi)\"\n",
    "    # fehler string=\"2\"\n",
    "    # string=\"i\"\n",
    "    check_chars(string)\n",
    "    string = check_double(string)\n",
    "    string = check_bracket_standard(string)\n",
    "    string = re.sub(r\"sin\",\"Sin\",string)\n",
    "    check_i_sin_cos(string)\n",
    "    string = check_pi(string)\n",
    "    check_brackets(string)\n",
    "    string = standardize_i(string)\n",
    "    # klammern auflösen\n",
    "    getclamps = re.compile(r\"\\(([0-9\\.a-zA-Z\\+\\-\\*\\/\\^\\$\\_]*?)\\)\")\n",
    "    komplex = None\n",
    "    while True:\n",
    "        clamps = re.search(getclamps, string)\n",
    "        supstring = re.sub(getclamps, '_', string, count=1)\n",
    "        if supstring != string:\n",
    "            # klammer beinhaltet i\n",
    "            if re.search(r\"(?<![sScC])[iI]\", clamps.group(1)) is not None or re.search(r\"\\$\", clamps.group(1)) is not None :\n",
    "                check_i_bracket(supstring)\n",
    "                komplex=re.sub(r\"[iI]\",\"(i)\",clamps.group(1),count=1)\n",
    "                try:\n",
    "                    komplex = rechnen(komplex, ComplexNumber(0,1))\n",
    "                except:\n",
    "                    print(\"etwas ist schiefgelaufen\")\n",
    "                    raise ComplexNumberError\n",
    "                string = re.sub(r\"\\_\",\"$\",supstring,count=1)\n",
    "\n",
    "            # klammer ohne i\n",
    "            else:\n",
    "                try:\n",
    "                    erg = rechnen(clamps.group(1))\n",
    "                except:\n",
    "                    print(\"etwas ist schiefgelaufen\")\n",
    "                    raise ComplexNumberError\n",
    "\n",
    "                string = bracket_handler(supstring,erg)\n",
    "\n",
    "        else:\n",
    "            # keine Klammer mehr, die Schleife wird verlassen\n",
    "            break\n",
    "\n",
    "    if komplex is None:\n",
    "        komplex = re.sub(r\"[iI]\",\"(i)\",string,count=1)\n",
    "        try:\n",
    "            komplex = rechnen(komplex, ComplexNumber(0,1))\n",
    "        except:\n",
    "            print(\"etwas ist schiefgelaufen\")\n",
    "            raise ComplexNumberError\n",
    "    else:\n",
    "        string=re.sub(r\"\\$\",\"(i)\",string,count=1)\n",
    "        try:\n",
    "            komplex = rechnen(string,komplex)\n",
    "        except:\n",
    "            print(\"etwas ist schiefgelaufen\")\n",
    "            raise ComplexNumber\n",
    "    # komplex ist die zahl\n",
    "    return komplex if type(komplex) == ComplexNumber else ComplexNumber(komplex,0)"
   ],
   "id": "8f4ead31e51f4990",
   "outputs": [],
   "execution_count": 17
  },
  {
   "metadata": {},
   "cell_type": "markdown",
   "source": [
    "<hr><br>\n",
    "check_chars() prüft, ob der String Zeichen nutzt, die für die Rechnung nicht benötigt werden.\n",
    "Dabei wird jedes Zeichen auf alle verwendbaren Zeichen überprüft."
   ],
   "id": "c69be2ccbd2f06f9"
  },
  {
   "metadata": {
    "ExecuteTime": {
     "end_time": "2025-02-05T12:36:05.885360Z",
     "start_time": "2025-02-05T12:36:05.882167Z"
    }
   },
   "cell_type": "code",
   "source": [
    "def check_chars(string):\n",
    "    # auf falsche Zeichen prüfen\n",
    "    checkchars = re.compile(r\"[0-9sSiInpPcCo\\(\\)\\+\\*\\-\\/\\.\\^]\")\n",
    "    for i in string:\n",
    "        if re.search(checkchars,i) is None:\n",
    "            print(\"falsche Zeichen benutzt\", i)\n",
    "            raise ComplexNumberError"
   ],
   "id": "5422e5c64b624fe0",
   "outputs": [],
   "execution_count": 18
  },
  {
   "metadata": {},
   "cell_type": "markdown",
   "source": "check_double() prüft auf doppelte Vorzeichen und ersetzt diese",
   "id": "58b52bcd8fc8a2b2"
  },
  {
   "metadata": {
    "ExecuteTime": {
     "end_time": "2025-02-05T12:36:07.050281Z",
     "start_time": "2025-02-05T12:36:07.039Z"
    }
   },
   "cell_type": "code",
   "source": [
    "def check_double(string):\n",
    "    string = re.sub(r\"(?:\\+\\-)|(?:\\-\\+)\", \"-\", string)\n",
    "    string = re.sub(r\"(?:\\+\\+)|(?:\\-\\-)\", \"+\", string)\n",
    "    return string"
   ],
   "id": "d4c79332797d6358",
   "outputs": [],
   "execution_count": 19
  },
  {
   "metadata": {},
   "cell_type": "markdown",
   "source": "check_bracket_standard() prüft, ob bei Klammern die Kurzschreibweise genutzt wurde und normalisiert sie gegebenenfalls.",
   "id": "db6371992b539bbd"
  },
  {
   "metadata": {
    "ExecuteTime": {
     "end_time": "2025-02-05T12:36:08.174467Z",
     "start_time": "2025-02-05T12:36:08.171847Z"
    }
   },
   "cell_type": "code",
   "source": [
    "def check_bracket_standard(string):\n",
    "    string = re.sub(r\"(?<=[0-9iI\\)])\\(\", \"*(\", string)\n",
    "    string = re.sub(r\"(?=[0-9iIsScC])\\)\", \")*\", string)\n",
    "    return string"
   ],
   "id": "338164ff2e81f98a",
   "outputs": [],
   "execution_count": 20
  },
  {
   "metadata": {},
   "cell_type": "markdown",
   "source": "check_i_sin_cos() prüft, ob die restlichen Buchstaben namentlich **s**, **c**, **n**, **o** und **i** richtig benutzt wurden und es nur ein **i** (die imaginäre Einheit) gibt.",
   "id": "403a3d3cf0374bea"
  },
  {
   "metadata": {
    "ExecuteTime": {
     "end_time": "2025-02-05T12:36:09.485965Z",
     "start_time": "2025-02-05T12:36:09.482336Z"
    }
   },
   "cell_type": "code",
   "source": [
    "def check_i_sin_cos(string):\n",
    "    # auf i,s,p,c,o prüfen\n",
    "    checki = re.compile(r\".*[iI].*[iI].*\")\n",
    "    checksin = re.compile(r\"[sS]in\\((.+?)\\)\")\n",
    "    checkpi = re.compile(r\"[pP]i\")\n",
    "    checkcos = re.compile(r\"[cC]os\\((.+?)\\)\")\n",
    "    istring = re.sub(checksin,'€',string)\n",
    "    istring = re.sub(checkpi,'_',istring)\n",
    "    istring = re.sub(checkcos,'&',istring)\n",
    "    if re.fullmatch(checki, istring) is not None:\n",
    "        print(\"zu viele i werte vorhanden\")\n",
    "        raise ComplexNumberError\n",
    "    if re.search(r\"[sSpPcCo]\", istring) is not None:\n",
    "        print(\"s,p,c,o falsch benutzt\")\n",
    "        raise ComplexNumberError"
   ],
   "id": "d26f83aff9b80a1a",
   "outputs": [],
   "execution_count": 21
  },
  {
   "metadata": {},
   "cell_type": "markdown",
   "source": "check_pi() prüft, ob die Kurzschreibweise mit $pi$ verwendet wurde und ein * hinzugefügt werden muss. Da später anhand von Rechenzeichen die komplexe Zahl auf die normale Schreibweise gebracht wird. Zudem wird $pi$ durch eine annähernde Kommazahl ersetzt.",
   "id": "575102fd71a1db55"
  },
  {
   "metadata": {
    "ExecuteTime": {
     "end_time": "2025-02-05T12:36:10.790255Z",
     "start_time": "2025-02-05T12:36:10.787127Z"
    }
   },
   "cell_type": "code",
   "source": [
    "def check_pi(string):\n",
    "    # pi normieren und auflösen\n",
    "    prepi = re.search(r\"([0-9])[pP]i\", string)\n",
    "    while prepi is not None:\n",
    "        string = re.sub(r\"[0-9][pP]i\",(prepi.group(1)+\"*pi\"), string)\n",
    "        prepi = re.search(r\"([0-9])[pP]i\", string)\n",
    "\n",
    "    postpi = re.search(r\"[pP]i([0-9])\", string)\n",
    "    while postpi is not None:\n",
    "        string = re.sub(r\"[pP]i[0-9]\",(\"pi*\"+postpi.group(1)), string)\n",
    "        postpi = re.search(r\"[pP]i([0-9])\", string)\n",
    "    string = re.sub(r\"[pP]i\",\"3.14159265\", string)\n",
    "    return string"
   ],
   "id": "f1fe05873dee5b48",
   "outputs": [],
   "execution_count": 22
  },
  {
   "metadata": {},
   "cell_type": "markdown",
   "source": "check_brackets() prüft, ob die Anzahl der öffnenden Klammern auf die Anzahl der schließenden Klammern passt.",
   "id": "c9c6d60e29d2bbec"
  },
  {
   "metadata": {
    "ExecuteTime": {
     "end_time": "2025-02-05T12:36:12.055555Z",
     "start_time": "2025-02-05T12:36:12.052786Z"
    }
   },
   "cell_type": "code",
   "source": [
    "def check_brackets(string):\n",
    "    # auf klammern prüfen\n",
    "    klammern = 0\n",
    "    for i in string:\n",
    "        if i == '(':\n",
    "            klammern += 1\n",
    "        elif i == ')':\n",
    "            klammern -= 1\n",
    "    if klammern != 0:\n",
    "        print(\"klammern sind falsch gesetzt\")\n",
    "        raise ComplexNumberError"
   ],
   "id": "cc032675b482a1ee",
   "outputs": [],
   "execution_count": 23
  },
  {
   "metadata": {},
   "cell_type": "markdown",
   "source": "standardize_i() prüft wie check_pi() darauf, ob die Kürzung für $i$ genutzt wurde. Zudem wird geprüft, ob $i$ alleinstehend ist.",
   "id": "35aa41374b3f6c22"
  },
  {
   "metadata": {
    "ExecuteTime": {
     "end_time": "2025-02-05T12:36:13.064773Z",
     "start_time": "2025-02-05T12:36:13.056911Z"
    }
   },
   "cell_type": "code",
   "source": [
    "def standardize_i(string):\n",
    "    # i standartisieren\n",
    "    checksti = re.compile(r\"([0-9\\)])[iI](?![sn])\")\n",
    "    getsti = re.search(checksti,string)\n",
    "    if getsti is not None:\n",
    "        string = re.sub(checksti,f'{getsti.group(1)}*i', string, count=1)\n",
    "    checksti2 = re.compile(r\"(?<![sScC])[iI]([0-9\\(Sc])\")\n",
    "    getsti2 = re.search(checksti2,string)\n",
    "    if getsti2 is not None:\n",
    "        string = re.sub(checksti2,f'i*{getsti2.group(1)}', string, count=1)\n",
    "    # nicht sicher, ob es wichtig ist\n",
    "    checkonlyi = re.compile(r\"(\\*)?[iI](?(1)(?:\\*)?|\\*)\")\n",
    "    if re.search(checkonlyi,string) is None:\n",
    "        string = re.sub(r\"[iI](?![sn])\",'1*i', string, count=1)\n",
    "    return string"
   ],
   "id": "af1399f3868e7381",
   "outputs": [],
   "execution_count": 24
  },
  {
   "metadata": {},
   "cell_type": "markdown",
   "source": [
    "check_i_bracket() prüft, ob du $i$ manipuliert wird. Verboten ist:\n",
    "\n",
    "* $sin(i)$\n",
    "* $cos(i)$\n",
    "* $i^2$"
   ],
   "id": "ae177d77d863ace1"
  },
  {
   "metadata": {
    "ExecuteTime": {
     "end_time": "2025-02-05T12:36:15.672252Z",
     "start_time": "2025-02-05T12:36:15.668841Z"
    }
   },
   "cell_type": "code",
   "source": [
    "def check_i_bracket(supstring):\n",
    "    # i mit speziellen Klammern und Potenzen prüfen\n",
    "    checksin2 = re.compile(r\"[sS]in_\")\n",
    "    checkcos2 = re.compile(r\"[cC]os_\")\n",
    "    checkpow2 = re.compile(r\"(\\^)?_(?(1)\\^?|\\^)\")\n",
    "    if re.search(checksin2, supstring) is not None:\n",
    "        print(\"sin darf nicht mit i benutzt werden\")\n",
    "        raise ComplexNumberError\n",
    "    elif re.search(checkcos2, supstring) is not None:\n",
    "        print(\"cos darf nicht mit i benutzt werden\")\n",
    "        raise ComplexNumberError\n",
    "    elif re.search(checkpow2,supstring) is not None:\n",
    "        print(\"i darf nicht potenziert werden\")\n",
    "        raise ComplexNumberError\n"
   ],
   "id": "75e447b76e731adb",
   "outputs": [],
   "execution_count": 25
  },
  {
   "metadata": {},
   "cell_type": "markdown",
   "source": "bracket_handler() überprüft nach dem Ausrechnen einer Klammer, ob das Ergebnis noch weiter manipuliert werden muss, beispielweise durch $sin$.",
   "id": "e7b551559ebe2389"
  },
  {
   "metadata": {
    "ExecuteTime": {
     "end_time": "2025-02-05T12:36:17.166612Z",
     "start_time": "2025-02-05T12:36:17.161078Z"
    }
   },
   "cell_type": "code",
   "source": [
    "def bracket_handler(supstring, erg):\n",
    "    # wie mit dem Ergebnis der Klammer umgegangen werden soll\n",
    "    string = ''\n",
    "    if re.search(r\"[sS]in_\", supstring) is not None:\n",
    "        neg = 0\n",
    "        if re.search(r\"\\-[sS]in\\_\",supstring) is not None:\n",
    "            neg = 1\n",
    "        supstring = re.sub(r\"[\\+\\-]?[sS]in\\_\",\"_\", supstring, count=1)\n",
    "        if neg == 1:\n",
    "            erg = -math.sin(erg)\n",
    "        else:\n",
    "            erg = math.sin(erg)\n",
    "        erg = round(erg, 7)\n",
    "        string = re.sub(r\"\\_\",f\"{erg:+}\", supstring, count=1)\n",
    "    elif re.search(r\"[cC]os_\", supstring) is not None:\n",
    "        neg = 0\n",
    "        if re.search(r\"\\-[cC]os\\_\", supstring) is not None:\n",
    "            neg = 1\n",
    "        supstring = re.sub(r\"[\\+\\-]?[cC]os\\_\",\"_\", supstring, count=1)\n",
    "        if neg == 1:\n",
    "            erg = -math.cos(erg)\n",
    "        else:\n",
    "            erg = math.cos(erg)\n",
    "        erg = round(erg,7)\n",
    "        string = re.sub(r\"\\_\",f\"{erg:+}\", supstring, count=1)\n",
    "    else:\n",
    "        string = re.sub(r\"\\_\",f\"{erg}\", supstring, count=1)\n",
    "    return string"
   ],
   "id": "bca33522ab2bfb8c",
   "outputs": [],
   "execution_count": 26
  },
  {
   "metadata": {},
   "cell_type": "markdown",
   "source": [
    "## Definition Rechnung\n",
    "\n",
    "Um die Rechenart zu erfassen, wird zuerst eine Fallunterscheidung benötigt. Dabei sind die fünf Rechenoperationen wie folgt definiert:\n",
    "\n",
    "* $+$ in der Methode add()\n",
    "* $-$ in der Methode sub()\n",
    "* $*$ in der Methode mul()\n",
    "* $/$ in der Methode div()\n",
    "* ^ in der Methode pow()\n",
    "\n",
    "Zur Visualisierung gibt es die Methode show()."
   ],
   "id": "4abc734b3843876c"
  },
  {
   "metadata": {},
   "cell_type": "markdown",
   "source": [
    "<div class=\\\"definition\\\">\n",
    "    <h3>Grafisch addieren</h3>\n",
    "    Um zwei Komplexe Zahlen grafisch zu addieren, werden die beiden Zahlen als Vektor dargestellt und hintereinandergehängt.\n",
    "    Der Vektor, der auf den selben Punkt zeigt, wie die hintereinandergehängten Vektoren ist das Ergebnis.\n",
    "</div>"
   ],
   "id": "58c97e6e8e71bef6"
  },
  {
   "metadata": {
    "ExecuteTime": {
     "end_time": "2025-02-05T12:36:19.894411Z",
     "start_time": "2025-02-05T12:36:19.891460Z"
    }
   },
   "cell_type": "code",
   "source": [
    "def add():\n",
    "    zahl1 = eingabe(\"Bitte erste komplexe Zahl eingeben: \")\n",
    "    zahl2 = eingabe(\"Bitte zweite komplexe Zahl eingaben: \")\n",
    "    show_line(zahl1, zahl2, zahl1.real + zahl2.real, zahl1.imag + zahl2.imag)"
   ],
   "id": "9938592dbe74a03",
   "outputs": [],
   "execution_count": 27
  },
  {
   "metadata": {},
   "cell_type": "markdown",
   "source": [
    "### Beispiel Addieren\n",
    "![<img src=\\\"Pictures/addieren.jpeg\\\" width=\\\"500\\\" height=\\\"500\\\"/>](Pictures/addieren.jpeg)"
   ],
   "id": "90c23c1a6f429ec8"
  },
  {
   "metadata": {},
   "cell_type": "markdown",
   "source": [
    "<div class=\\\"definition\\\">\n",
    "<h3>Grafisch Subtrahieren</h3>\n",
    "Da eine Subtraktion <i>a-b </i>auch geschrieben werden kann <i>a+(-b)</i>, kann man grafisch subtrahieren indem man den negierten Vektor der zweiten Zahl mit der ersten addiert.\n",
    "</div>"
   ],
   "id": "69a847b59943660e"
  },
  {
   "metadata": {
    "ExecuteTime": {
     "end_time": "2025-02-05T12:36:22.208343Z",
     "start_time": "2025-02-05T12:36:22.203857Z"
    }
   },
   "cell_type": "code",
   "source": [
    "def sub():\n",
    "    zahl1 = eingabe(\"Bitte erste komplexe Zahl eingeben: \")\n",
    "    zahl2 = eingabe(\"Bitte zweite komplexe Zahl eingaben: \")\n",
    "    show_line(zahl1, -zahl2, zahl1.real - zahl2.real, zahl1.imag - zahl2.imag)"
   ],
   "id": "ff5b322c4ff3efbe",
   "outputs": [],
   "execution_count": 28
  },
  {
   "metadata": {},
   "cell_type": "markdown",
   "source": [
    "### Beispiel Subtrahieren\n",
    "![<img src=\\\"Pictures/subtrahieren.jpeg\\\" width=\\\"500\\\" height=\\\"500\\\"/>](Pictures/subtrahieren.jpeg)"
   ],
   "id": "de98ddc436899b45"
  },
  {
   "metadata": {},
   "cell_type": "markdown",
   "source": [
    "<div class=\\\"definition\\\">\n",
    "<h3>Grafisch Multiplizieren</h3>\n",
    "Um zwei Komplexe Zahlen grafisch zu multiplizieren, werden die Längen multipliziert und die Winkel addiert.\n",
    "$ z_1*z_2 = [l_1*l_2;\\\\varphi_1+\\\\varphi_2]$\n",
    "</div>"
   ],
   "id": "1434dadd854f9599"
  },
  {
   "metadata": {
    "ExecuteTime": {
     "end_time": "2025-02-05T12:36:24.253552Z",
     "start_time": "2025-02-05T12:36:24.250844Z"
    }
   },
   "cell_type": "code",
   "source": [
    "def mul(ax):\n",
    "    zahl1 = eingabe(\"Bitte erste komplexe Zahl eingeben: \")\n",
    "    zahl2 = eingabe(\"Bitte zweite komplexe Zahl eingaben: \")\n",
    "    erg = zahl1 * zahl2\n",
    "    show_dot(zahl1, zahl2, erg, 'Längen multipliziert', 'Winkel addiert', ax)"
   ],
   "id": "9d15954990bdb0c7",
   "outputs": [],
   "execution_count": 29
  },
  {
   "metadata": {},
   "cell_type": "markdown",
   "source": [
    "### Beispiel Multiplizieren\n",
    "![<img src=\\\"Pictures/multiplizieren.jpeg\\\" width=\\\"500\\\" height=\\\"500\\\"/>](Pictures/multiplizieren.jpeg)"
   ],
   "id": "95e264a6eb01367c"
  },
  {
   "metadata": {},
   "cell_type": "markdown",
   "source": [
    "<div class=\\\"definition\\\">\n",
    "<h3>Grafisch Dividieren</h3>\n",
    "Um zwei Komplexe Zahlen grafisch zu dividieren, werden die Längen dividiert und die Winkel subtrahiert.\n",
    "$ z_1/z_2 = [l_1/l_2;\\\\varphi_1-\\\\varphi_2]$\n",
    "</div>"
   ],
   "id": "767151a157c49463"
  },
  {
   "metadata": {
    "ExecuteTime": {
     "end_time": "2025-02-05T12:36:26.157570Z",
     "start_time": "2025-02-05T12:36:26.154004Z"
    }
   },
   "cell_type": "code",
   "source": [
    "def div(ax):\n",
    "    zahl1 = eingabe(\"Bitte erste komplexe Zahl eingeben: \")\n",
    "    zahl2 = eingabe(\"Bitte zweite komplexe Zahl eingaben: \")\n",
    "    erg = zahl1 / zahl2\n",
    "    show_dot(zahl1, zahl2, erg, 'Längen dividiert', 'Winkel subtrahiert', ax)"
   ],
   "id": "6ac52e158603ab0b",
   "outputs": [],
   "execution_count": 30
  },
  {
   "metadata": {},
   "cell_type": "markdown",
   "source": [
    "### Beispiel Dividieren\n",
    "![<img src=\\\"Pictures/dividieren.jpeg\\\" width=\\\"700\\\" height=\\\"700\\\"/>](Pictures/dividieren.jpeg)"
   ],
   "id": "dfd85101ded7b21a"
  },
  {
   "metadata": {},
   "cell_type": "markdown",
   "source": [
    "<div class=\\\"definition\\\">\n",
    "<h3>Grafisch Potenzieren</h3>\n",
    "Man kann Potenzen auch in Multiplikationen um schreiben. Dadurch wird es möglich, die Komplexe Zahl entsprechend der Potenz zu multiplizieren.\n",
    "<br><br>\n",
    "$Allgemein:$<br>$ z_1^n= [\\\\prod_{i=1}^{n}l_1;n* \\\\varphi_1]$\n",
    "</div>"
   ],
   "id": "f9d0e5e968ec2fbf"
  },
  {
   "metadata": {
    "ExecuteTime": {
     "end_time": "2025-02-05T12:37:06.816796Z",
     "start_time": "2025-02-05T12:37:06.812071Z"
    }
   },
   "cell_type": "code",
   "source": [
    "def pow(ax):\n",
    "    zahl1 = eingabe(\"Bitte erste komplexe Zahl eingeben: \")\n",
    "    zahl2 = None\n",
    "    while zahl2 is None:\n",
    "        try:\n",
    "            zahl2 = int(input(\"Bitte ganze Potenz eingeben: \"))\n",
    "        except:\n",
    "            print(\"Zahl nicht erkannt\")\n",
    "    zahl = zahl1**zahl2\n",
    "    x=plt.quiver([0], [0], [zahl1.real], [zahl1.imag],\n",
    "               color='g', scale_units='xy', scale=1, label='zahl1')\n",
    "    winke=[]\n",
    "    vektoren=[]\n",
    "    for i in range(zahl2):\n",
    "        tmp = zahl1**(i + 1)\n",
    "        winke.append(winkel(ax, tmp.real, tmp.imag, i + 2))\n",
    "        vektoren.append(plt.quiver([0], [0], [tmp.real], [tmp.imag],\n",
    "               color=f\"#{str(hex((i*12+55)%256))[2:]:02}{str(hex((i*53+1)%256))[2:]:02}{str(hex((i*37+97)%256))[2:]:02}\", scale_units='xy', scale=1, label='zahl1'))\n",
    "    plt.legend([x, winke[0], vektoren[-1]], ['Zahl1','Winkel','Ergebnis'], loc='upper left')\n",
    "    plt.show()"
   ],
   "id": "7dd8418054b2cdc4",
   "outputs": [],
   "execution_count": 39
  },
  {
   "metadata": {},
   "cell_type": "markdown",
   "source": [
    "### Beispiel Potenzieren\n",
    "![<img src=\\\"Pictures/potenzieren.jpeg\\\" width=\\\"500\\\" height=\\\"500\\\"/>](Pictures/potenzieren.jpeg)"
   ],
   "id": "f1a2951c0bff09d0"
  },
  {
   "metadata": {
    "ExecuteTime": {
     "end_time": "2025-02-05T12:36:31.740470Z",
     "start_time": "2025-02-05T12:36:31.736776Z"
    }
   },
   "cell_type": "code",
   "source": [
    "# Funktion zum Darstellen von Strichrechnung\n",
    "def show_line(n1, n2, res1, res2):\n",
    "    x=plt.quiver([0], [0], [n1.real], [n1.imag],\n",
    "                 color='g', scale_units='xy', scale=1, label='zahl1')\n",
    "    y=plt.quiver([n1.real],[n1.imag],[n2.real],[n2.imag],\n",
    "                 color='b',angles='xy', scale_units='xy', scale=1, label='zahl2')\n",
    "    z=plt.quiver([0],[0],[res1],[res2],\n",
    "                 color='r',angles='xy', scale_units='xy', scale=1, label='zahl2')\n",
    "    plt.legend([x,y,z],['Zahl1', 'Zahl2', 'Ergebnis'], loc='upper left')\n",
    "    plt.show()"
   ],
   "id": "1670d54c19e96978",
   "outputs": [],
   "execution_count": 32
  },
  {
   "metadata": {
    "ExecuteTime": {
     "end_time": "2025-02-05T12:36:33.005365Z",
     "start_time": "2025-02-05T12:36:33.001079Z"
    }
   },
   "cell_type": "code",
   "source": [
    "# Funktion zum Darstellen von Punktrechnung\n",
    "def show_dot(n1, n2, res, string1, string2, ax):\n",
    "    x = plt.quiver([0], [0], [n1.real], [n1.imag],\n",
    "                   color='g',angles='xy', scale_units='xy', scale=1, label='zahl1')\n",
    "    y = plt.quiver([0], [0], [n2.real], [n2.imag],\n",
    "                   color='b',angles='xy', scale_units='xy', scale=1, label='zahl1')\n",
    "    z = gradiant_vector(res.real, res.imag)\n",
    "    arc = winkel(ax, res.real, res.imag)\n",
    "    plt.legend([x,y,z,arc],['Zahl1', 'Zahl2', string1, string2], loc='upper left')\n",
    "    plt.show()"
   ],
   "id": "4ed67db4d4c18479",
   "outputs": [],
   "execution_count": 33
  },
  {
   "metadata": {},
   "cell_type": "markdown",
   "source": [
    "## Rechnen\n",
    "\n",
    "Dire rechnen() Funktion erhält einen String und wahlweise eine komplexe Zahl. Die Rechnung wird rekursiv ausgeführt und gibt dann das Ergebnis entweder als komplexe Zahl oder als float Wert zurück."
   ],
   "id": "b8cca385899ac592"
  },
  {
   "metadata": {
    "ExecuteTime": {
     "end_time": "2025-02-05T12:37:11.138137Z",
     "start_time": "2025-02-05T12:37:11.131179Z"
    }
   },
   "cell_type": "code",
   "source": [
    "def rechnen(str, komplex=None):\n",
    "    if str[0] == \"+\" or str[0] == \"-\":\n",
    "        str = \"0\"+str\n",
    "    rechn = None\n",
    "    if str == \"(i)\":\n",
    "        return komplex\n",
    "    str = re.sub(r\"(?<=[\\*\\/\\^])[\\+]\",\"&\", str)\n",
    "    str = re.sub(r\"(?<=[\\*\\/\\^])[\\-]\",\"€\", str)\n",
    "    erg = re.split(r\"[\\+\\-](?!.*[\\+\\-])\", str, maxsplit=1)\n",
    "    rechn = re.search(r\"[\\+\\-](?!.*[\\+\\-])\", str)\n",
    "    str = re.sub(r\"(?<=[\\*\\/\\^])[\\&]\",\"+\", str)\n",
    "    str = re.sub(r\"(?<=[\\*\\/\\^])[\\€]\",\"-\", str)\n",
    "    if len(erg) == 2:\n",
    "        erg[0] = re.sub(r\"(?<=[\\*\\/\\^])[\\&]\",\"+\", erg[0])\n",
    "        erg[1] = re.sub(r\"(?<=[\\*\\/\\^])[\\&]\",\"+\", erg[1])\n",
    "        erg[0] = re.sub(r\"(?<=[\\*\\/\\^])[\\€]\",\"-\", erg[0])\n",
    "        erg[1] = re.sub(r\"(?<=[\\*\\/\\^])[\\€]\",\"-\", erg[1])\n",
    "        erg[0] = rechnen(erg[0], komplex)\n",
    "        erg[1] = rechnen(erg[1], komplex)\n",
    "    else:\n",
    "        erg[0] = re.sub(r\"(?<=[\\*\\/\\^])[\\&]\",\"+\", erg[0])\n",
    "        erg[0] = re.sub(r\"(?<=[\\*\\/\\^])[\\€]\",\"-\", erg[0])\n",
    "        erg = re.split(r\"[\\*\\/](?!.*[\\*\\/])\", erg[0], maxsplit=1)\n",
    "        rechn = re.search(r\"[\\*\\/](?!.*[\\*\\/])\", str)\n",
    "        if len(erg) == 2:\n",
    "            erg[0] = rechnen(erg[0], komplex)\n",
    "            erg[1] = rechnen(erg[1], komplex)\n",
    "        else:\n",
    "            erg = re.split(r\"\\^\", erg[0])\n",
    "            tmperg = float(erg[0])\n",
    "            del(erg[0])\n",
    "            for i in erg:\n",
    "                tmperg = float(math.pow(tmperg, float(i)))\n",
    "            erg = tmperg\n",
    "    # print(\"erg\", erg, \"rechn\", rechn, \"str\", str)\n",
    "    if type(erg) == float:\n",
    "        return erg\n",
    "    else:\n",
    "        rechn = rechn.group(0)\n",
    "        if rechn == \"+\":\n",
    "            return erg[0] + erg[1]\n",
    "        elif rechn == \"-\":\n",
    "            return erg[0] - erg[1]\n",
    "        elif rechn == \"*\":\n",
    "            return erg[0] * erg[1]\n",
    "        elif rechn == \"/\":\n",
    "            if erg[1] == 0:\n",
    "                print(\"Durch Null teilen ist nicht möglich\")\n",
    "                raise ComplexNumberError\n",
    "            return erg[0] / erg[1]\n",
    "        else:\n",
    "            return erg[0]\n",
    "            #....\n",
    "    #formel mit (i) als komplexer zahl\n",
    "    #besitzt keine klammern, sin, cos, pi, freie i\n",
    "    #kein ^ mit i\n",
    "    #wichtig - am anfang ist möglich"
   ],
   "id": "59f46e979fee1092",
   "outputs": [],
   "execution_count": 40
  },
  {
   "metadata": {},
   "cell_type": "markdown",
   "source": [
    "## Grafische Oberfläche\n",
    "\n",
    "Um die Zahlen und die Rechnung grafisch darzustellen wird Matplotlib mit numpy verwendet.\n",
    "setplot() erstellt eine Standard-Oberfläche in Form eines Koordinatessystems in dem dann die Rechnung abgebildet wird."
   ],
   "id": "7117bece9473da39"
  },
  {
   "metadata": {
    "ExecuteTime": {
     "end_time": "2025-02-05T12:37:12.821510Z",
     "start_time": "2025-02-05T12:37:12.814287Z"
    }
   },
   "cell_type": "code",
   "source": [
    "import numpy as np                 # v 1.19.2\n",
    "import matplotlib.pyplot as plt    # v 3.3.2\n",
    "\n",
    "def setplot():\n",
    "    # Select length of axes and the space between tick labels\n",
    "    xmin, xmax, ymin, ymax = -10, 10, -10, 10\n",
    "    ticks_frequency = 1\n",
    "\n",
    "    # Plot points\n",
    "    fig, ax = plt.subplots(figsize=(10, 10))  # setzt die grösse fest 10= -5--5\\n\",\n",
    "\n",
    "    # Set identical scales for both axes\n",
    "    ax.set(xlim=(xmin-1, xmax+1), ylim=(ymin-1, ymax+1), aspect='equal')\n",
    "\n",
    "    # Set bottom and left spines as x and y axes of coordinate system\n",
    "    ax.spines['bottom'].set_position('zero')\n",
    "    ax.spines['left'].set_position('zero')\n",
    "\n",
    "    # Remove top and right spines\n",
    "    ax.spines['top'].set_visible(False)\n",
    "    ax.spines['right'].set_visible(False)\n",
    "\n",
    "    # Create 'x' and 'y' labels placed at the end of the axes\n",
    "    ax.set_xlabel('x', size=14, labelpad=-24, x=1.03)\n",
    "    ax.set_ylabel('y', size=14, labelpad=-21, y=1.02, rotation=0)\n",
    "\n",
    "    # Create custom major ticks to determine position of tick labels\n",
    "    x_ticks = np.arange(xmin, xmax+1, ticks_frequency)\n",
    "    y_ticks = np.arange(ymin, ymax+1, ticks_frequency)\n",
    "    ax.set_xticks(x_ticks[x_ticks != 0])\n",
    "    ax.set_yticks(y_ticks[y_ticks != 0])\n",
    "\n",
    "    # Create minor ticks placed at each integer to enable drawing of minor grid\n",
    "    # lines: note that this has no effect in this example with ticks_frequency=1\n",
    "    ax.set_xticks(np.arange(xmin, xmax+1), minor=True)\n",
    "    ax.set_yticks(np.arange(ymin, ymax+1), minor=True)\n",
    "\n",
    "    # Draw major and minor grid lines\n",
    "    ax.grid(which='both', color='grey', linewidth=1, linestyle='-', alpha=0.2)\n",
    "\n",
    "    # Draw arrows\n",
    "    arrow_fmt = dict(markersize=4, color='black', clip_on=False)\n",
    "    ax.plot(1, 0, marker='>', transform=ax.get_yaxis_transform(), **arrow_fmt)\n",
    "    ax.plot(0, 1, marker='^', transform=ax.get_xaxis_transform(), **arrow_fmt)\n",
    "    return ax"
   ],
   "id": "d382bc596ff24146",
   "outputs": [],
   "execution_count": 41
  },
  {
   "metadata": {},
   "cell_type": "markdown",
   "source": [
    "## Darstellung\n",
    "\n",
    "Es folgen noch zwei Funktionen, die bei der Darstellung helfen.\n",
    "\n",
    "gradient_vector() stellt einen zweifarbigen Vektor dar, der mit der Multiplikation der Länge der anderen beiden Vektoren definiert ist."
   ],
   "id": "c8b51b6e03aaeb10"
  },
  {
   "metadata": {
    "ExecuteTime": {
     "end_time": "2025-02-05T12:37:15.156695Z",
     "start_time": "2025-02-05T12:37:15.152947Z"
    }
   },
   "cell_type": "code",
   "source": [
    "def gradiant_vector(x,y):\n",
    "    # Define the starting point and vector components\n",
    "    x0, y0 = 0, 0  # Starting point (origin)\n",
    "    u, v = x, y  # Vector components (u: x-component, v: y-component)\n",
    "\n",
    "    # Number of segments along the arrow (including tip)\n",
    "    num_segments = 10\n",
    "\n",
    "    # Create a linearly spaced set of points along the vector (for the color gradient)\n",
    "    x_vals = np.linspace(x0, x0 + u, num_segments)\n",
    "    y_vals = np.linspace(y0, y0 + v, num_segments)\n",
    "\n",
    "    # Calculate the magnitude at each point\n",
    "    magnitude = np.sqrt(x_vals**2 + y_vals**2)\n",
    "\n",
    "    # Plot segments of the vector with varying shades of green based on the magnitude*\n",
    "\n",
    "    for i in range(1, num_segments - 1, 2):\n",
    "        plt.plot([x_vals[i-1], x_vals[i]], [y_vals[i-1], y_vals[i]],\n",
    "                 color='g', linewidth=3)\n",
    "\n",
    "    # Optionally: Add the entire arrow with a color gradient\n",
    "    vec = plt.quiver(x0, y0, u, v, angles='xy', scale_units='xy', scale=1, color='b', width=0.005)\n",
    "\n",
    "    return vec"
   ],
   "id": "b6a59fed6a1071cf",
   "outputs": [],
   "execution_count": 42
  },
  {
   "metadata": {},
   "cell_type": "markdown",
   "source": "winkel() stellt einen Winkel dar, der durch die Addition der beiden Winkel der anderen Zahlen definiert ist.",
   "id": "91ae7ee2d8711ae5"
  },
  {
   "metadata": {
    "ExecuteTime": {
     "end_time": "2025-02-05T12:37:16.755884Z",
     "start_time": "2025-02-05T12:37:16.752791Z"
    }
   },
   "cell_type": "code",
   "source": [
    "def winkel(ax, v, u, size=2):\n",
    "    # Calculate the angle in radians and convert to degree\n",
    "    angle_rad = np.arctan2(u,v)  # Angle between vector and x-axis in radians\n",
    "    angle_deg = np.degrees(angle_rad)  # Convert to degrees\n",
    "\n",
    "    # Draw the arc representing the angle\n",
    "    arc = patches.Arc((0,0), width=size, height=size, angle=0, theta1=0, theta2=angle_deg, color='black', lw=2, linestyle='--')\n",
    "    ax.add_patch(arc)\n",
    "    return arc"
   ],
   "id": "f133548810e3dbb7",
   "outputs": [],
   "execution_count": 43
  },
  {
   "metadata": {},
   "cell_type": "markdown",
   "source": [
    "## Nutzereingabe\n",
    "\n",
    "Schlussendlich kommt noch die Nutzereingabe. Erst muss die Rechnung eingegeben werden, von der aus das Programm dann die jeweilige Funktion aufruft, die dann über die Eingabe der zwei komplexen Zahlen eine Rechnung durchführt und schlussendlich grafisch darstellt."
   ],
   "id": "23c2a11979bc0168"
  },
  {
   "metadata": {
    "ExecuteTime": {
     "end_time": "2025-02-05T12:37:25.471430Z",
     "start_time": "2025-02-05T12:37:18.481747Z"
    }
   },
   "cell_type": "code",
   "source": [
    "ax = setplot()\n",
    "print(\"Welche Rechnung möchtest du durchführen(+-*/^): \")\n",
    "operator= input()\n",
    "match operator:\n",
    "    case \"+\":\n",
    "        add()\n",
    "    case \"-\":\n",
    "        sub()\n",
    "    case \"/\":\n",
    "        div(ax)\n",
    "    case \"*\":\n",
    "        mul(ax)\n",
    "    case \"^\":\n",
    "        pow(ax)\n",
    "    case _:\n",
    "        print(f\"{operator} ist keine gültige Eingabe\")\n",
    "#2/3*(-4^-2+-sin(5)i)\n",
    "#2.5*(cos(4)+sin(3)i)\n",
    "#2(cos(30pi/180)+isin(30pi/180))"
   ],
   "id": "19313d6b3084b382",
   "outputs": [
    {
     "name": "stdout",
     "output_type": "stream",
     "text": [
      "Welche Rechnung möchtest du durchführen(+-*/^): \n",
      "Bitte erste komplexe Zahl eingeben: \n"
     ]
    },
    {
     "data": {
      "text/plain": [
       "<Figure size 1000x1000 with 1 Axes>"
      ],
      "image/png": "[encoded data removed]"
     },
     "metadata": {},
     "output_type": "display_data"
    }
   ],
   "execution_count": 44
  },
  {
   "metadata": {},
   "cell_type": "markdown",
   "source": [
    "# Vektorrotation\n",
    "\n",
    "Komplexe Zahlen können genutzt werden, um Vektor schnell und einfach zu rotieren. Dies wird in vielen Softwarebereichen genutzt, vor allem zum Beispiel in der Spieleindustrie."
   ],
   "id": "94a42d05579e12c"
  },
  {
   "metadata": {},
   "cell_type": "markdown",
   "source": [
    "## Einsatzgebiete\n",
    "\n",
    "Im Bereich der Software werden Vektoren und Rechenoperationen auf diesen verwendet, um Grafiken und Animationen zu erstellen und darzustellen. Auch die Vektorrotation wird hier genutzt, vor allem im Bereich des Gamings.\n"
   ],
   "id": "f3491cef3369a8e9"
  },
  {
   "metadata": {},
   "cell_type": "markdown",
   "source": [
    "### Grundlagen\n",
    "Um zu verstehen, wie ein Vektor mittels komplexer Zahlen rotiert werden kann, muss erst einmal verstanden werden, wieso Vektoren und komplexe Zahlen sich so ähnlich sind.\n",
    "Die komplexe Zahl $x = a + b \\times i$ kann so in einem kartesischen Koordinatensystem als Punkt $P$ in der Ebene dargestellt werden. Dieser Punkt $P$ hat den realen Anteil $a$ als x-Koordinate und den imaginären Anteil $b$ als y-Koordinate. $i^2$ ist in dem Fall -1.\n",
    "Dieser Punkt $P$ kann jedoch auch als Vektor vom Ursprung zu diesem Punkt dargestellt werden. Der sogenannte Ortsvektor zum Punkt $P$."
   ],
   "id": "65ac625967b7f25a"
  },
  {
   "metadata": {},
   "cell_type": "markdown",
   "source": [
    "### kartesische vs. Polarkoordinaten\n",
    "Wie bereits im vorhergehenden Abschnitt erwähnt, können komplexe Zahlen als ein Punkt im kartesischen Koordinatensystem dargestellt werden, mit sogenannten kartesischen Koordinaten.\n",
    "Es gibt jedoch noch eine andere Schreibweise Vektoren, bzw. komplexe Zahlen darzustellen, welche unter anderem auch für die Vektorrotation benötigt wird. Die sogenannten Polarkoordinaten.\n",
    "Der Gedanke hinter dieser Darstellung ist, dass man eine Zahl $r$ hat, welche den Betrag des Ortsvektors zum Punkt $P$ bzw. er komplexen Zahl $c$ angibt, und einen Winkel $\\phi$, welcher den Winkel des Vektors zur Realachse, also der x-Achse angibt. Damit kann man ebenfalls den Ortsvektor bestimmen und damit auch die komplexe Zahl $c$."
   ],
   "id": "cdac20c6f4fdd547"
  },
  {
   "metadata": {},
   "cell_type": "markdown",
   "source": [
    "## Vektoren\n",
    "\n",
    "Damit wir Vektoren überhaupt erst rotieren können, brauchen wir erstmal eine Klasse, welchen unseren Vektor repräsentiert. Die nachfolgende Klasse implementiert die Basisfunktionalität eines Vektors."
   ],
   "id": "3688b1c43e519633"
  },
  {
   "metadata": {},
   "cell_type": "code",
   "outputs": [],
   "execution_count": null,
   "source": [
    "class VectorEqualError(Exception):\n",
    "\n",
    "    @classmethod\n",
    "    def get_description(cls):\n",
    "        return \"Vectors can't be compared, most likely one parameter isn't a vector\"\n",
    "\n",
    "class VectorTypeError(Exception):\n",
    "\n",
    "    @classmethod\n",
    "    def get_description(cls):\n",
    "        return \"Vector components must be of type int or float\"\n",
    "\n",
    "\n",
    "class Vector:\n",
    "\n",
    "    def __init__(self, x, y):\n",
    "        if isinstance(x, (int, float)) and isinstance(y, (int, float)):\n",
    "            self.x = x\n",
    "            self.y = y\n",
    "        else:\n",
    "            raise VectorTypeError()\n",
    "\n",
    "    def __str__(self):\n",
    "        return f\"Vector({self.x}, {self.y})\"\n",
    "\n",
    "    def __add__(self, other):\n",
    "        if isinstance(other, Vector):\n",
    "            return Vector(self.x + other.x, self.y + other.y)\n",
    "        raise VectorTypeError\n",
    "\n",
    "    def __sub__(self, other):\n",
    "        if isinstance(other, Vector):\n",
    "            return Vector(self.x - other.x, self.y - other.y)\n",
    "        raise VectorTypeError\n",
    "\n",
    "    def __eq__(self, other):\n",
    "        if isinstance(other, Vector):\n",
    "            return self.x == other.x and self.y == other.y\n",
    "        raise VectorEqualError\n",
    "\n",
    "    def rotate_complete(self, angle):\n",
    "        if not isinstance(angle, (int, float)):\n",
    "            raise VectorTypeError()\n",
    "        c = ComplexNumber(self.x, self.y)\n",
    "        rad = angle * (math.pi / 180)\n",
    "        # real * cos = real number.\n",
    "        # imag * sin = real number, because imag and sin each contain i (i^2 = -1).\n",
    "        # real * sin = imag number, because sin contains i.\n",
    "        # imag * cos = imag number, because imag contains i.\n",
    "        rotated_real = c.real * math.cos(rad) - c.imag * math.sin(rad)\n",
    "        rotated_imag = c.real * math.sin(rad) + c.imag * math.cos(rad)\n",
    "        rotated_c = ComplexNumber(rotated_real, rotated_imag)\n",
    "        return Vector(rotated_c.real, rotated_c.imag)\n",
    "\n",
    "    def rotate(self, angle):\n",
    "        if not isinstance(angle, (int, float)):\n",
    "            raise VectorTypeError()\n",
    "        c = ComplexNumber(self.x, self.y)\n",
    "        rad = angle * (math.pi / 180)\n",
    "        # real * cos = real number.\n",
    "        # imag * sin = real number, because imag and sin each contain i (i^2 = -1).\n",
    "        # real * sin = imag number, because sin contains i.\n",
    "        # imag * cos = imag number, because imag contains i.\n",
    "        rotated_real = round(c.real * math.cos(rad) - c.imag * math.sin(rad))\n",
    "        rotated_imag = round(c.real * math.sin(rad) + c.imag * math.cos(rad))\n",
    "        rotated_c = ComplexNumber(rotated_real, rotated_imag)\n",
    "        return Vector(rotated_c.real, rotated_c.imag)"
   ],
   "id": "ddc3d50208a9c3bf"
  },
  {
   "metadata": {},
   "cell_type": "markdown",
   "source": [
    "## Rotation\n",
    "Wir können das vorhergehende Wissen und die oben stehende Vektorklasse nun nutzen, um einen gegebenen Vektor im Realraum mittels einer imaginären Zahl $c$ um einen gegebenen Winkel $\\omega$ zu rotieren. Betrachten wir hierzu noch einmal die rotate Funktion"
   ],
   "id": "8fa79880b951daf4"
  },
  {
   "metadata": {},
   "cell_type": "code",
   "outputs": [],
   "execution_count": null,
   "source": [
    "def rotate(self, angle):\n",
    "    if not isinstance(angle, (int, float)):\n",
    "        raise VectorTypeError()\n",
    "    # Erstellen einer komplexen Zahl für die Rotation\n",
    "    c = ComplexNumber(self.x, self.y)\n",
    "    # Berechnung in Bogenmaß\n",
    "    rad = angle * (math.pi / 180)\n",
    "    # Berechnung der Vektorrotation\n",
    "    rotated_real = round(c.real * math.cos(rad) - c.imag * math.sin(rad))\n",
    "    rotated_imag = round(c.real * math.sin(rad) + c.imag * math.cos(rad))\n",
    "    # Erstellen neuer komplexer Zahl zur Darstellung des rotierten Vektors\n",
    "    rotated_c = ComplexNumber(rotated_real, rotated_imag)\n",
    "    # Rückgabe eines neuen Vektors mit den neuen Koordinaten\n",
    "    return Vector(rotated_c.real, rotated_c.imag)"
   ],
   "id": "ec0c7cf4beeffca4"
  },
  {
   "metadata": {},
   "cell_type": "markdown",
   "source": [
    "### Beispiel\n",
    "Nehmen wir einmal den Vektor v(5, 7) und einen Winkel von 85°. Um den Vektor nun zu rotieren, muss nur die folgende Funktion aufgerufen werden:"
   ],
   "id": "4dd9b262aa910329"
  },
  {
   "metadata": {
    "jupyter": {
     "is_executing": true
    }
   },
   "cell_type": "code",
   "source": [
    "v = Vector(5, 7)\n",
    "print(v.rotate(85))"
   ],
   "id": "181227aa5705d5d7",
   "outputs": [],
   "execution_count": null
  },
  {
   "metadata": {},
   "cell_type": "markdown",
   "source": [
    "### Visualisierung\n",
    "Zum besseren Verständnis kann diese Operation mithilfe von Matplotlib nun auch visualisiert werden."
   ],
   "id": "dcabfb7b05bb463c"
  },
  {
   "metadata": {},
   "cell_type": "code",
   "outputs": [],
   "execution_count": null,
   "source": [
    "# Visualisierung der Vektoren und Rotation\n",
    "\n",
    "v = Vector(5, 7)\n",
    "angle = 85\n",
    "rotated_v = v.rotate(angle)\n",
    "\n",
    "plt.figure(figsize=(6, 6))\n",
    "plt.axhline(0, color='gray', linewidth=1.0, linestyle='dashed')\n",
    "plt.axvline(0, color='gray', linewidth=1.0, linestyle='dashed')\n",
    "\n",
    "plt.quiver(0, 0, v.x, v.y, angles='xy', scale_units='xy', scale=1, color='blue', label='Originalvektor')\n",
    "plt.quiver(0, 0, rotated_v.x, rotated_v.y, angles='xy', scale_units='xy', scale=1, color='red', label='Rotierter Vektor')\n",
    "\n",
    "plt.xlim(-10, 10)\n",
    "plt.ylim(-10, 10)\n",
    "plt.gca().set_aspect('equal', adjustable='box')\n",
    "plt.legend()\n",
    "plt.title(f\"2D-Vektorrotation um {angle}°\")\n",
    "plt.grid()\n",
    "plt.show()"
   ],
   "id": "2ad84c47a1bab616"
  },
  {
   "metadata": {},
   "cell_type": "markdown",
   "source": [
    "## Tests\n",
    "Mindestens genauso wichtig wie guter Code sind gute Tests. Auch in diesem Fall wurden Tests benutzt, um die Funktionalität des Codes sicherzustellen."
   ],
   "id": "9d81f621390739ef"
  },
  {
   "metadata": {},
   "cell_type": "code",
   "outputs": [],
   "execution_count": null,
   "source": [
    "class TestVector(unittest.TestCase):\n",
    "    def setUp(self):\n",
    "        self.vector_o = Vector(1, 0)\n",
    "        self.vector_t = Vector(100, 50)\n",
    "\n",
    "    def test_rotate(self):\n",
    "        self.assertEqual(self.vector_o.rotate(90), Vector(0, 1))\n",
    "        self.assertEqual(self.vector_t.rotate(75), Vector(-22, 110))\n",
    "\n",
    "    def test_errors(self):\n",
    "        self.assertRaises(VectorTypeError, self.str_error)\n",
    "        self.assertRaises(VectorEqualError, self.eq_error)\n",
    "        self.assertRaises(VectorTypeError, self.add_error)\n",
    "        self.assertRaises(VectorTypeError, self.rotate_err)\n",
    "\n",
    "    def str_error(self):\n",
    "        v = Vector(\"string\", 100)\n",
    "\n",
    "    def eq_error(self):\n",
    "        self.vector_t == \"Hello\"\n",
    "\n",
    "    def add_error(self):\n",
    "        self.vector_o + 40\n",
    "\n",
    "    def rotate_err(self):\n",
    "        self.vector_o.rotate(\"rotate here\")\n",
    "\n",
    "if __name__ == '__main__':\n",
    "    unittest.main(argv=[''], exit=False)"
   ],
   "id": "f109e943222f4e9a"
  },
  {
   "metadata": {},
   "cell_type": "markdown",
   "source": [
    "# Mandelbrot-Fraktal\n",
    "\n",
    "Das Mandelbrot-Fraktal wurde zum ersten Mal 1978 gezeichnet und spielt eine große Rolle in der Mathematik, Spieleindustrie und Kunst."
   ],
   "id": "1cda3d4c995c242"
  },
  {
   "metadata": {},
   "cell_type": "markdown",
   "source": [
    "## Rekursion in der Mathematik\n",
    "\n",
    "Wird ein Element $x_0$ aus der Menge $\\{x \\in \\mathbb{Q} | x \\notin [-1, 1]\\}$ quadriert, gilt für das Ergebnis $x_1$, dass $x_0 < x_1$. Allgemein gilt dann $x_n < x_{n + 1}$ mit dem Bildungsgesetz $x_{n + 1}$ = $x^2_n$.\n",
    "\n",
    "Beispiel für die mehrfache Quadrierung mit $x_0$ = -2:\n",
    "$$\n",
    "\\begin{aligned}\n",
    "    &x_0 = -2\\\\\n",
    "    &x_1 = x_0^2 = -2^2 = 4\\\\\n",
    "    &x_2 = x_1^2 = 4^2 = 16\\\\\n",
    "    &x_3 = x_2^2 = 16^2 = 256\\\\\n",
    "&...\n",
    "\\end{aligned}\n",
    "$$\n",
    "\n",
    "Dieser Prozess kann in Python wie folgt abgebildet werden:"
   ],
   "id": "84b22b6ab6753149"
  },
  {
   "metadata": {},
   "cell_type": "code",
   "outputs": [],
   "execution_count": null,
   "source": [
    "def square(x):\n",
    "    return x*x\n",
    "\n",
    "def square_til(start_val, depth):\n",
    "    if depth <= 0:\n",
    "        return start_val\n",
    "    return square_til(square(start_val), depth-1)\n",
    "\n",
    "print(f\"x_2 = {square_til(2,2)}\")\n",
    "print(f\"x_3 = {square_til(2,3)}\")"
   ],
   "id": "eecd46f3f4b8a976"
  },
  {
   "metadata": {},
   "cell_type": "markdown",
   "source": [
    "<div class=\"remark\">\n",
    "    <h3>Maximale Rekursionstiefe</h3>\n",
    "    Im Code muss eine maximale Rekusionstiefe angegeben werden, da die Berechnung sonst nie terminiert.\n",
    "</div>"
   ],
   "id": "9285b69f4bb1cad8"
  },
  {
   "metadata": {},
   "cell_type": "markdown",
   "source": "Wie das Beispiel zeigt, wächst $x_n$ mit jeder Quadrierung in die Unendlichkeit, also $\\lim \\limits_{x_n \\to \\infty} = \\infty$. Die Folge der Zahlen wird **unbeschränkt** genannt. Verwenden wir jedoch einen Startwert $x_0 \\in (-1, 1)$, verändert sich das Verhalten bei mehrfacher Quadrierung:",
   "id": "a01b86fda70549f9"
  },
  {
   "metadata": {},
   "cell_type": "code",
   "outputs": [],
   "execution_count": null,
   "source": [
    "print(f\"0.3^2 = {square(0.3)}\")\n",
    "print(f\"0.3 fünf Mal rekursiv quadriert = {square_til(0.3, 5)}\")\n",
    "print(f\"-0.25 fünf Mal rekursiv quadriert = {square_til(-0.25, 5)}\")"
   ],
   "id": "de1febb24eef603"
  },
  {
   "metadata": {},
   "cell_type": "markdown",
   "source": [
    "Hierbei zeigt sich, dass bei gleichem Bildungsgesetz, aber einem anderen Startwert $\\lim \\limits_{x_n \\to \\infty} = 0$ gilt\n",
    "\n",
    "(**beschränkte Folge**)\n",
    "\n",
    "Für das weitere Verständnis ist wichtig zu wissen, dass rekursive Algorithmen eine Abbruchbedingung (oder Anker) brauchen. Dieser kann einen beliebigen Wert haben. Umso höher dieser Wert ist, desto mehr Werte können berechnet oder angezeigt werden.\n",
    "\n",
    "<div class=\"definition\">\n",
    "    <h3>Bildungsgesetz der Mandelbrotmenge</h3>\n",
    "    Für die Mandelbrotmenge gilt das Bildungsgesetz $z_{n+1}=z_n^2 + c$, wobei $c,z_n \\in \\mathbb C$. Als Startwert wird $z_0 = 0$ verwendet und es wird rekursiv für mehrere $c$ geprüft, ob $z_n$ mit dem Bildungsgesetz beschränkt bleibt. Ist $|z_n| > 2$, gilt das verwendete $c$ als unbeschränkt und ist nicht Teil der Mandelbrotmenge.\n",
    "</div>"
   ],
   "id": "afa3f8e77584da24"
  },
  {
   "metadata": {},
   "cell_type": "markdown",
   "source": [
    "### Koordinatensystem mit Fluchtkreis in Python\n",
    "\n",
    "Für die Darstellung des Mandelbrotfraktals wird eine Gaußebene erstellt, die auf der x-Achse (Realteil) und auf der y-Achse (Imaginärteil) auf das Intervall $(-2,5; 2,5)$ begrenzt ist. Diese Beschränkung ist so gewählt, dass das komplette Mandelbrotfraktal abgebildet werden kann."
   ],
   "id": "7f246c473542ff12"
  },
  {
   "metadata": {},
   "cell_type": "code",
   "outputs": [],
   "execution_count": null,
   "source": [
    "x_min, x_max = -2.5, 2.5\n",
    "y_min, y_max = -2.5, 2.5\n",
    "\n",
    "def create_complex_plane():\n",
    "    \"\"\"\n",
    "    Erstellt eine Gaußebene, für die Darstellung des Mandelbrotfraktals.\n",
    "    \"\"\"\n",
    "\n",
    "    fig, ax = plt.subplots()\n",
    "    ax.set_xlim(x_min, x_max)\n",
    "    ax.set_ylim(y_min, y_max)\n",
    "    ax.set_aspect('equal', adjustable='box')\n",
    "\n",
    "    plt.axhline(0, color='black', linewidth=1)\n",
    "    plt.axvline(0, color='black', linewidth=1)\n",
    "    plt.grid()\n",
    "\n",
    "    return (fig, ax)"
   ],
   "id": "cf411e4d747442b5"
  },
  {
   "metadata": {},
   "cell_type": "markdown",
   "source": "Als _Fluchtkreis_ wird ein Kreis mit dem Radius $2$ und dem Zentrum in $(0,0)$ beschrieben. Dieser Kreis zeigt die Schranke $|z_n| > 2$.",
   "id": "cd57934d88a2510c"
  },
  {
   "metadata": {},
   "cell_type": "code",
   "outputs": [],
   "execution_count": null,
   "source": [
    "def plot_escape_circle(axes):\n",
    "    \"\"\"\n",
    "    Plottet den Fluchtkreis mit dem Radius 2.\n",
    "    \"\"\"\n",
    "    axes.add_patch(Circle((0, 0), radius=2, edgecolor='red', facecolor='none', linewidth=2))\n",
    "\n",
    "fig, axes = create_complex_plane()\n",
    "plot_escape_circle(axes)\n",
    "plt.show()"
   ],
   "id": "772ac7f2fd0d6505"
  },
  {
   "metadata": {},
   "cell_type": "markdown",
   "source": [
    "### Beispiel\n",
    "\n",
    "Für ein beliebig gewähltes $c = 1,5 + 0,75i$ gilt:\n",
    "\n",
    "$$\n",
    "z_0 = 0\\\\\n",
    "z_1 = 0^2 + (1,5 + 0,75i) = 2,8125\n",
    "$$\n",
    "\n",
    "Schon ab $z_1$ wird klar, dass $c$ nicht in der Mandelbrotmenge enthalten ist, da $|z_1| = 2,8125$ und $2,8125 > 2$. Das Verfahren zur Ermittlung von $z_n$ funktioniert analog wie bei der mehrfachen Quadrierung oben."
   ],
   "id": "abfb798f134f6ec4"
  },
  {
   "metadata": {},
   "cell_type": "markdown",
   "source": [
    "## Mandelbrotfraktal in Python\n",
    "\n",
    "Auch in Python kann die Berechnung eines $z_n$ rekursiv umgesetzt werden."
   ],
   "id": "7639566e3a2ed55f"
  },
  {
   "metadata": {},
   "cell_type": "code",
   "outputs": [],
   "execution_count": null,
   "source": [
    "def mandelbrotmenge(c, depth, z=0):\n",
    "    \"\"\"\n",
    "    Gibt den Wert von z_n (n entspricht hier der Rekursionstiefe 'depth') für ein gegebenes c zurück.\n",
    "    \"\"\"\n",
    "    if depth <= 0:\n",
    "        return z\n",
    "    return mandelbrotmenge(c, depth - 1, z*z + c)"
   ],
   "id": "14dfd75624240ae1"
  },
  {
   "metadata": {},
   "cell_type": "markdown",
   "source": "Nun kann überprüft werden, ob das $z_n$ der Rückgabe von `mandelbrotmenge()` kleiner als $2$ ist und somit Teil der Mandelbrotmenge ist.",
   "id": "470cb32723f0639d"
  },
  {
   "metadata": {},
   "cell_type": "code",
   "outputs": [],
   "execution_count": null,
   "source": [
    "def is_part_of_mandelbrot(c, depth):\n",
    "    \"\"\"\n",
    "    Überprüft, ob das gegebene c Teil der Mandelbrotmenge ist.\n",
    "    \"\"\"\n",
    "    return abs(mandelbrotmenge(c, depth, 0)) <= 2"
   ],
   "id": "68b70eb203b696de"
  },
  {
   "metadata": {},
   "cell_type": "code",
   "outputs": [],
   "execution_count": null,
   "source": [
    "print(\"Gebe die Rekursionstiefe (n) an:\")\n",
    "depth = int(input())\n",
    "print(\"Gebe den Realteil einer imaginäre Zahl ein:\")\n",
    "real = float(input())\n",
    "print(\"Gebe den Imaginärteil einer imaginäre Zahl ein:\")\n",
    "imag = float(input())\n",
    "\n",
    "c = complex(real, imag)\n",
    "a = mandelbrotmenge(c, depth)\n",
    "\n",
    "print(f\"z_{depth} = {a}\")\n",
    "print(f\"Betrag von z_{depth} = {abs(a)}\")\n",
    "\n",
    "print(f\"Ist {real}+{imag}i Teil der Mandelbrotmenge: {is_part_of_mandelbrot(complex(real, imag), depth)}\")"
   ],
   "id": "55931ae39e5a37bd"
  },
  {
   "metadata": {},
   "cell_type": "markdown",
   "source": "Leider werden hier die Zwischenergebnisse, also $z_1, z_2, ..., z_{n-1}$ der Berechnung ausgelassen. Jedoch können diese als Vektoren in eine Gaußebene eingezeichnet werden. So zeigen die blauen Vektoren jeweils $z_0, ..., z_5$ für $c = 0,3+0.4i$ und die schwarzen Vektoren für $c = 0,5 + 0,6i$. Bei dem schwarzen Vektor zeigt sich, dass sobald ein Vektor den Fluchtkreis verlassen hat, die Werte unbeschränkt wachsen.",
   "id": "46c0ff2ba5c11c5a"
  },
  {
   "metadata": {},
   "cell_type": "code",
   "outputs": [],
   "execution_count": null,
   "source": [
    "def c_with_vector(ax, c, color, depth=5, z=0):\n",
    "    \"\"\"\n",
    "    Zeichnet die gegebene Anzahl an Interationen der Berechnung der Mandelbrotmenge in\n",
    "    die Figur ein.\n",
    "    \"\"\"\n",
    "    if depth <= 0:\n",
    "        return\n",
    "    dest = mandelbrotmenge(c, 1, z)\n",
    "    dest_real, dest_imag = dest.real - z.real, dest.imag - z.imag\n",
    "    ax.quiver(z.real, z.imag, dest_real, dest_imag, scale_units='xy', scale = 1, color=color, width=0.005)\n",
    "    c_with_vector(ax, c, color, depth - 1, dest)\n",
    "\n",
    "fig, axes = create_complex_plane()\n",
    "plot_escape_circle(axes)\n",
    "c_with_vector(axes, complex(0.3, 0.4), 'blue')\n",
    "c_with_vector(axes, complex(0.5, 0.6), 'black')\n",
    "plt.show()"
   ],
   "id": "d0d8a28e9e07c34f"
  },
  {
   "metadata": {},
   "cell_type": "markdown",
   "source": [
    "Als Benoît Mandelbrot die Mandelbrotmenge zum ersten Mal auf einem Computer darstellte, hatte dieser nur einen monochronen Monitor. Das heißt, der Monitor konnte nur eine Farbe darstellen. Das Ergebnis war das Mandelbrotfraktal schwarz für alle Elemente $c$, die in der Mandelbrotmenge für ein $n$ enthalten waren, und weiß für die Elemente, die nicht in der Menge waren.\n",
    "\n",
    "Der folgende Code erstellt ein einfaches Mandelbrotfraktal, das alle komplexe Zahlen, die nicht in der Mandelbrotmenge existieren, blau markiert und alle anderen gelb markiert."
   ],
   "id": "324d44d00f5fc85f"
  },
  {
   "metadata": {},
   "cell_type": "code",
   "outputs": [],
   "execution_count": null,
   "source": [
    "width = height = 500\n",
    "\n",
    "def mandelbrotmenge_iter(c, depth, z=0, it=0):\n",
    "    \"\"\"\n",
    "    Durchläuft die Berechnung mittels des Bildungsgesetzes rekursiv,\n",
    "    bis |z_n| > 2 ist oder die maximale Tiefe erreicht ist.\n",
    "    \"\"\"\n",
    "    if abs(z) > 2 or depth <= 0:\n",
    "        return it\n",
    "    return mandelbrotmenge_iter(c, depth - 1, z*z + c, it + 1)\n",
    "\n",
    "def get_mandelbrotfraktal_array(depth, x_max, x_min, y_max, y_min):\n",
    "    \"\"\"\n",
    "    Erstellt ein 2D-Array, das die Mandelbrot-Menge für einen gegebenen Bereich\n",
    "    im komplexen Zahlenraum darstellt.\n",
    "    \"\"\"\n",
    "    fractal = np.zeros((height, width), dtype=int)\n",
    "    for x in range(width):\n",
    "        for y in range(height):\n",
    "            real = x_min + (x / width) * (x_max - x_min)\n",
    "            imag = y_min + (y / height) * (y_max - y_min)\n",
    "            fractal[y][x] = mandelbrotmenge_iter(complex(real, imag), depth)\n",
    "    return fractal\n",
    "\n",
    "def plot_simple_mandelbrot(ax, depth, x_max, x_min, y_max, y_min):\n",
    "    \"\"\"\n",
    "    Plottet ein einfaches Mandelbrotfraktal, wobei alle Werte, die in der letzten\n",
    "    Iteration noch in der Mandelbrotmenge sind, farbig hervorgehoben werden.\n",
    "    \"\"\"\n",
    "    array = get_mandelbrotfraktal_array(depth, x_max, x_min, y_max, y_min)\n",
    "    return ax.imshow(np.where(array == depth, 1, 0), extent=[x_min, x_max, y_min, y_max])\n",
    "\n",
    "fig, ax = create_complex_plane()\n",
    "image = plot_simple_mandelbrot(ax, 20, x_max, x_min, y_max, y_min)\n",
    "plt.show()"
   ],
   "id": "d9e39a5ded088a0d"
  },
  {
   "metadata": {},
   "cell_type": "markdown",
   "source": "Auf Basis der `plot_simple_mandelbrot()`-Funktion kann nun eine einfache Zoom-Funktion umgesetzt werden, die die Achsenlimits ändert und das einfache Mandelbrot erneut plottet.",
   "id": "8a54b18e81d21dde"
  },
  {
   "metadata": {},
   "cell_type": "code",
   "outputs": [],
   "execution_count": null,
   "source": [
    "def zoom_into_mandelbrot(ax, depth, x_min, x_max, y_min, y_max):\n",
    "    \"\"\"\n",
    "    Ändert die Achsengrößen und plottet das Fraktal mit den übergebenen Werten neu\n",
    "    \"\"\"\n",
    "    plot_simple_mandelbrot(ax, depth, x_min, x_max, y_min, y_max)\n",
    "    ax.set_xlim(x_min, x_max)\n",
    "    ax.set_ylim(y_min, y_max)\n",
    "    plt.draw()\n",
    "\n",
    "fig, ax = create_complex_plane()\n",
    "zoom_into_mandelbrot(ax, 20, -0.5, 0.5, -0.5, 0.5)"
   ],
   "id": "66223b3211b1fdfe"
  },
  {
   "metadata": {},
   "cell_type": "markdown",
   "source": "Hier wird auf die `c_with_vector()`-Funktion zurückgegriffen, die oben eingeführt wurde. Hier lässt sich leichter ablesen, wie das Mandelbrotfraktal funktioniert. Komplexe Zahlen, dessen Vektoren in einer Iteration den Fluchtkreis verlassen, sind blau, die anderen gelb.",
   "id": "9eb99c3b7fe0f83c"
  },
  {
   "metadata": {},
   "cell_type": "code",
   "outputs": [],
   "execution_count": null,
   "source": [
    "fig, ax = create_complex_plane()\n",
    "plot_escape_circle(ax)\n",
    "c_with_vector(ax, complex(0.3, 0.4), 'blue')\n",
    "c_with_vector(ax, complex(-0.1, 0.8), 'pink')\n",
    "c_with_vector(ax, complex(-0.8, 0.8), 'red')\n",
    "plot_simple_mandelbrot(ax, 20, x_max, x_min, y_max, y_min)\n",
    "plt.show()"
   ],
   "id": "b5f08d265caeb170"
  },
  {
   "metadata": {},
   "cell_type": "markdown",
   "source": "In vielen Darstellungen wird das Mandelbrotfraktal in vielen verschiedene Farben gezeigt. Das entsteht durch das markieren von der Anzahl der Iterationen, die es gebraucht hat, bis die jeweilige komplexe Zahl die Mandelbrotmenge verlassen hat.",
   "id": "81b4b7f9f62f945e"
  },
  {
   "metadata": {},
   "cell_type": "code",
   "outputs": [],
   "execution_count": null,
   "source": [
    "def plot_extended_mandelbrot(ax, depth, x_max, x_min, y_max, y_min):\n",
    "    array = get_mandelbrotfraktal_array(depth, x_max, x_min, y_max, y_min)\n",
    "    return ax.imshow(array, extent=[x_min, x_max, y_min, y_max])\n",
    "\n",
    "fig, ax = create_complex_plane()\n",
    "image = plot_extended_mandelbrot(ax, 20, x_max, x_min, y_max, y_min)\n",
    "plt.show()"
   ],
   "id": "fdc7d3e4132dcaa"
  },
  {
   "metadata": {},
   "cell_type": "markdown",
   "source": [
    "## Julia-Mengen\n",
    "\n",
    "Zur Erinnerung: Bei der Berechnung des **Mandelbrotfraktals** wird jeder Punkt in der Ebene durch $c$ dargestellt. Der Algorithmus startet mit $z_0 = 0$ und verändert in jedem Durchlauf das gegebene $z_n$ auf das Ergebnis der vorherigen Iteration. Gilt $|z_n| < 2$, ist $c$ Teil der Mandelbrotmenge.\n",
    "\n",
    "Die Berechnung der **Julia-Menge** unterscheidet sich nur leicht von der Berechnung des Mandelbrotfraktals. Die Formel zur Berechnung bleibt zwar dieselbe $z_{n+1}=z_n^2 + c$, jedoch wird $z_0$ auf die Koordinate eines Punktes auf der Ebene gesetzt. $c$ bleibt für jede Berechnung gleich, d.h. es wird eine feste komplexe Zahl gewählt, die das Aussehen/Verhalten der gesamten Ebene vorgibt.\n",
    "\n",
    "Ob eine komplexe Zahl Teil der Julia-Menge ist, wird analog zu der Mandelbrotmenge, mittels $|Z_n| < 2$ festgelegt."
   ],
   "id": "918312f48c3b209b"
  },
  {
   "metadata": {},
   "cell_type": "markdown",
   "source": [
    "### Beispiel\n",
    "\n",
    "Für $c = -1.32 - 0.085i$ soll überprüft werden, ob $z_0 = 1,5 - 1,5i$ Teil der Julia-Menge ist:\n",
    "\n",
    "$$\n",
    "\\begin{aligned}\n",
    "    z_{n+1} &= z_n^2 + (-1.32 - 0.085i)\\\\\n",
    "    z_0 &= (1,5 - 1,5i)^2 + (-1.32 - 0.085i)\\\\\n",
    "    z_1 &= (-1.32+4.585i)^2 + (-1.32 - 0.085i)\\\\\n",
    "\\end{aligned}\n",
    "$$\n",
    "\n",
    "Hier ist $|z_0| \\approx 4,77$, weswegen $z_0 = 1,5 - 1,5i$ bereits in der ersten Iteration nicht mehr Teil der Julia-Menge ist. Im Folgenden soll diese Überprüfung interaktiv über Python-Code laufen."
   ],
   "id": "fd402b21ca9ee4cd"
  },
  {
   "metadata": {},
   "cell_type": "code",
   "outputs": [],
   "execution_count": null,
   "source": [
    "print(\"Realteil c:\")\n",
    "real = float(input())\n",
    "print(\"Imaginärteil c:\")\n",
    "imag = float(input())\n",
    "print(\"Realteil z_0:\")\n",
    "z_real = float(input())\n",
    "print(\"Imaginärteil z_0:\")\n",
    "z_imag = float(input())\n",
    "\n",
    "print(f\"Iterationen: {mandelbrotmenge_iter(complex(real, imag), 20, complex(z_real, z_imag))}\")"
   ],
   "id": "dd3ba2c191616859"
  },
  {
   "metadata": {},
   "cell_type": "markdown",
   "source": "Da sich die Berechnungsformel für Julia-Mengen nicht von der Mandelbrotmenge unterscheidet, kann die Funktion `mandelbrotmenge_iter()` für die Berechnung der Julia-Menge verwendet werden, lediglich der Startwert $z_0$ muss angepasst werden.",
   "id": "b54a65dcc81364f"
  },
  {
   "metadata": {},
   "cell_type": "code",
   "outputs": [],
   "execution_count": null,
   "source": [
    "def get_julia_array(c, depth, x_max, x_min, y_max, y_min):\n",
    "    \"\"\"\n",
    "    Erstellt ein 2D-Array, das die Julia-Menge für einen gegebenen Bereich im komplexen Zahlenraum darstellt.\n",
    "    \"\"\"\n",
    "    fractal = np.zeros((height, width), dtype=int)\n",
    "    for x in range(width):\n",
    "        for y in range(height):\n",
    "            real = x_min + (x / width) * (x_max - x_min)\n",
    "            imag = y_min + (y / height) * (y_max - y_min)\n",
    "            z = complex(real, imag)\n",
    "\n",
    "            fractal[y][x] = mandelbrotmenge_iter(c, depth, z)\n",
    "    return fractal\n",
    "\n",
    "def plot_julia(ax, c, depth, x_max, x_min, y_max, y_min):\n",
    "    array = get_julia_array(c, depth, x_max, x_min, y_max, y_min)\n",
    "    return ax.imshow(array, extent=[x_min, x_max, y_min, y_max], cmap='seismic')\n",
    "\n",
    "fig, ax = plt.subplots(figsize=(8, 8))\n",
    "image = plot_julia(ax, complex(float(input(\"Realteil\")), float(input(\"Imaginärteil\"))), 50, x_max, x_min, y_max, y_min)\n",
    "plt.show()"
   ],
   "id": "a444bbbbf8f6686"
  },
  {
   "metadata": {},
   "cell_type": "markdown",
   "source": "## Unittest",
   "id": "af199b9943ae8d93"
  },
  {
   "metadata": {},
   "cell_type": "code",
   "outputs": [],
   "execution_count": null,
   "source": [
    "class TestMandelbrot(unittest.TestCase):\n",
    "    def setUp(self):\n",
    "        self.depth = 5\n",
    "        self.big_depth = 50\n",
    "        self.a = complex(-0.5, 0.5)\n",
    "        self.b = complex(0, 0)\n",
    "        self.c = complex(-0.1, 0.65)\n",
    "        self.d = complex(-0.4, 0.6)\n",
    "        self.e = complex(1, 1)\n",
    "        self.f = complex(2, 2)\n",
    "        self.g = complex(1.5, -1.5)\n",
    "        self.h = complex(3, 0)\n",
    "\n",
    "    def test_01_in_mandelbrot(self):\n",
    "        self.assertTrue(is_part_of_mandelbrot(self.a, self.depth))\n",
    "        self.assertTrue(is_part_of_mandelbrot(self.a, self.depth))\n",
    "        self.assertTrue(is_part_of_mandelbrot(self.b, self.depth))\n",
    "        self.assertTrue(is_part_of_mandelbrot(self.c, self.depth))\n",
    "        self.assertTrue(is_part_of_mandelbrot(self.d, self.depth))\n",
    "\n",
    "    def test_02_not_in_mandelbrot(self):\n",
    "        self.assertFalse(is_part_of_mandelbrot(self.e, self.depth))\n",
    "        self.assertFalse(is_part_of_mandelbrot(self.f, self.depth))\n",
    "        self.assertFalse(is_part_of_mandelbrot(self.g, self.depth))\n",
    "        self.assertFalse(is_part_of_mandelbrot(self.h, self.depth))\n",
    "\n",
    "    def test_03_not_in_mandelbrot_big_depth(self):\n",
    "        self.assertFalse(is_part_of_mandelbrot(self.d, self.big_depth))\n",
    "\n",
    "    def test_04_julia_iter(self):\n",
    "        self.assertEqual(mandelbrotmenge_iter(complex(0.4, 0.4), 20, complex(0.4, 0.4)), 20)\n",
    "        self.assertEqual(mandelbrotmenge_iter(complex(0.1, 3), 20, complex(0.2, 0.2)), 1)\n",
    "\n",
    "if __name__ == '__main__':\n",
    "    loader = unittest.TestLoader()\n",
    "    suite = unittest.TestSuite()\n",
    "\n",
    "    suite.addTest(TestMandelbrot(\"test_01_in_mandelbrot\"))\n",
    "    suite.addTest(TestMandelbrot(\"test_02_not_in_mandelbrot\"))\n",
    "    suite.addTest(TestMandelbrot(\"test_03_not_in_mandelbrot_big_depth\"))\n",
    "    suite.addTest(TestMandelbrot(\"test_04_julia_iter\"))\n",
    "\n",
    "    runner = unittest.TextTestRunner()\n",
    "    runner.run(suite)"
   ],
   "id": "79e7202ca99c0f63"
  },
  {
   "metadata": {},
   "cell_type": "markdown",
   "source": [
    "## Zoom-Funktion\n",
    "\n",
    "Hier wurde auf denselben Quellcode von oben zurückgegriffen. Die hier gezeigten Funktionen unterscheiden sich nicht von den obigen Implementationen.\n",
    "\n",
    "> Damit der Zoom funktioniert, müssen die Jupyter-Erweiterungen installiert sein.\n",
    "\n",
    "**Funktionsweise:** die Position des Mauszeigers wird über `event.xdata` und `event.ydata` aufgerufen. Mittels `event.button` wird das aktuelle Event (hoch- oder runterscrollen) aufgerufen. Anschließend werden die neuen Achsenlimits berechnet und mittels dieser Werte Bild neu geplottet. Der Skalierungsfaktor ist hier auf `2.0` festgelegt."
   ],
   "id": "8669f505e5a9b9e5"
  },
  {
   "metadata": {},
   "cell_type": "code",
   "outputs": [],
   "execution_count": null,
   "source": [
    "def get_mandelbrotfraktal_array(depth, x_max, x_min, y_max, y_min, width, height):\n",
    "    fractal = np.zeros((height, width), dtype=int)\n",
    "    for x in range(width):\n",
    "        for y in range(height):\n",
    "            real = x_min + (x / width) * (x_max - x_min)\n",
    "            imag = y_min + (y / height) * (y_max - y_min)\n",
    "            fractal[y][x] = mandelbrotmenge_iter(complex(real, imag), depth)\n",
    "    return fractal\n",
    "\n",
    "def plot_extended_mandelbrot(ax, depth, x_min, x_max, y_min, y_max, width, height):\n",
    "    array = get_mandelbrotfraktal_array(depth, x_max, x_min, y_max, y_min, width, height)\n",
    "    ax.imshow(array, extent=[x_min, x_max, y_min, y_max], origin='lower')\n",
    "    ax.set_xlim(x_min, x_max)\n",
    "    ax.set_ylim(y_min, y_max)\n",
    "\n",
    "def zoom_factory(ax, depth, width, height, base_scale=2.0):\n",
    "    \"\"\"\n",
    "    Leicht veränderte Funktion von: https://gist.github.com/tacaswell/3144287\n",
    "    \"\"\"\n",
    "    def zoom_fun(event):\n",
    "        # aktuell sichtbaren Achsenlimits\n",
    "        cur_xlim = ax.get_xlim()\n",
    "        cur_ylim = ax.get_ylim()\n",
    "\n",
    "        # Mitte der akuell sichtbaren Achsenlimits\n",
    "        x_range = (cur_xlim[1] - cur_xlim[0]) / 2\n",
    "        y_range = (cur_ylim[1] - cur_ylim[0]) / 2\n",
    "\n",
    "        # Mausposition\n",
    "        xdata = event.xdata\n",
    "        ydata = event.ydata\n",
    "\n",
    "        # Zoom-Richtung\n",
    "        if event.button == 'up':\n",
    "            scale_factor = 1 / base_scale\n",
    "        elif event.button == 'down':\n",
    "            scale_factor = base_scale\n",
    "        else:\n",
    "            return\n",
    "\n",
    "        # Berechnung der neuen Achsenlimits\n",
    "        new_x_min = xdata - x_range * scale_factor\n",
    "        new_x_max = xdata + x_range * scale_factor\n",
    "        new_y_min = ydata - y_range * scale_factor\n",
    "        new_y_max = ydata + y_range * scale_factor\n",
    "\n",
    "        ax.clear()\n",
    "        plot_extended_mandelbrot(ax, depth, new_x_min, new_x_max, new_y_min, new_y_max, width, height)\n",
    "        ax.figure.canvas.draw_idle()\n",
    "\n",
    "    fig = ax.get_figure()\n",
    "    fig.canvas.mpl_connect('scroll_event', zoom_fun)\n",
    "\n",
    "width, height = 800, 800\n",
    "depth = 100\n",
    "fig, ax = plt.subplots(figsize=(8, 8))\n",
    "plot_extended_mandelbrot(ax, depth, -2, 2, -2, 2, width, height)\n",
    "zoom_factory(ax, depth, width, height)\n",
    "plt.show()"
   ],
   "id": "42ea22ec664ec63d"
  },
  {
   "metadata": {},
   "cell_type": "markdown",
   "source": [
    "# Quellen\n",
    "\n",
    "## Darstellung\n",
    "\n",
    "* Matplotlib: [Plot Polar Darstellung](https://matplotlib.org/stable/gallery/pie_and_polar_charts/polar_demo.html)\n",
    "\n",
    "## Taschenrechner\n",
    "\n",
    "* https://docs.python.org/3/library/re.html\n",
    "* https://matplotlib.org/stable/tutorials/pyplot.html#sphx-glr-tutorials-pyplot-py\n",
    "* https://www.mathespass.at/klasse7/komplexe_zahlen_addieren.php\n",
    "* https://www.mathespass.at/klasse7/komplexe_zahlen_subtrahieren.php\n",
    "* https://studyflix.de/mathematik/komplexe-zahlen-2521\n",
    "* https://c.wgr.de/f/verlage/westermanngruppe-at/dimensionen-mathematik/_dim7/materialien/06_KomplexeZahlen/02_DarstellungKomplexerZahlen/05_02_rechnenPolardarstellung.pdf\n",
    "* http://elsenaju.info/Rechnen/Potenzen-komplexer-Zahlen.htm\n",
    "\n",
    "## Vektorrotation\n",
    "\n",
    "* LibreText Physics: [Vector rotations](https://phys.libretexts.org/Courses/University_of_California_Davis/UCD%3A_Physics_9HB__Special_Relativity_and_Thermal_Statistical_Physics/3%3A_Spacetime/3.1%3A_Vector_Rotations)\n",
    "* Alibaba Cloud: [Use of vector rotation in 2D space](https://www.alibabacloud.com/blog/the-use-of-vector-rotation-in-a-two-dimensional-space_599766)\n",
    "\n",
    "## Mandelbrot\n",
    "\n",
    "* 50 Schlüsselideen Mathematik, Tony Crilly, 978-3-8274-2118-0, Spektrum Akademischer Verlag Heidelberg, S. 100 f.\n",
    "* Eine Einladung in die Mathematik, Dierk Schleicher, Malte Lackmann, 978-3-642-25797-1, Springer-Verlag Berlin Heidelberg 2013, S. 214 f.\n",
    "* [What's so special about the Mandelbrot Set? - Numberphile](https://www.youtube.com/watch?v=FFftmWSzgmk&ab_channel=Numberphile) (Transkript beigelegt)\n",
    "* [Uni Leipzig - Die Mandelbrotmenge](https://www.informatik.uni-leipzig.de/~meiler/Schuelerseiten.dir/DPlotzki/html/mndlbrt.htm)"
   ],
   "id": "6e196368ebed29a9"
  },
  {
   "metadata": {},
   "cell_type": "markdown",
   "source": [
    "# Footer\n",
    "\n",
    "Projektbeteiligte:\n",
    "* Gregor Gottschewski\n",
    "* Leon Heiner\n",
    "* Marvin Igrec\n",
    "* Julian Schumacher\n",
    "* Daniel Ziegler"
   ],
   "id": "d27448fbe1b0094a"
  }
 ],
 "metadata": {
  "kernelspec": {
   "display_name": "Python 3",
   "language": "python",
   "name": "python3"
  },
  "language_info": {
   "codemirror_mode": {
    "name": "ipython",
    "version": 2
   },
   "file_extension": ".py",
   "mimetype": "text/x-python",
   "name": "python",
   "nbconvert_exporter": "python",
   "pygments_lexer": "ipython2",
   "version": "2.7.6"
  }
 },
 "nbformat": 4,
 "nbformat_minor": 5
}
