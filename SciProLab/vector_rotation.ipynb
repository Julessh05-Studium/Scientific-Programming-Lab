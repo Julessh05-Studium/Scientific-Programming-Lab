{
 "cells": [
  {
   "cell_type": "markdown",
   "id": "96657c8db6cd9f58",
   "metadata": {},
   "source": [
    "# Komplexe Zahlen\n",
    "\n",
    "## Vektorrotation\n",
    "Komplexe Zahlen können genutzt werden, um Vektoren schnell und einfach zu rotieren. Dies wird in vielen Softwarebereichen benutzt, vor allem zum Beispiel in der Spieleindustrie."
   ]
  },
  {
   "cell_type": "markdown",
   "id": "91b9f8d599b026",
   "metadata": {},
   "source": [
    "## Einsatzgebiete\n",
    "Im Bereich der Software werden Vektoren und Rechenoperationen mit diesen benutzt, um Grafiken und Animationen zu erstellen und darzustellen. Auch die Vektorrotation wird hier bentzt, vor allem im Gamingbereich."
   ]
  },
  {
   "cell_type": "markdown",
   "id": "451bd28d5a075909",
   "metadata": {},
   "source": [
    "### Grundlagen\n",
    "Um zu verstehen, wie ein Vektor mittels komplexer Zahlen rotiert werden kann, muss erst einmal verstanden werden, wieso Vektoren und komplexe Zahlen sich so ähnlich sind.\n",
    "Die komplexe Zahl $x = a + b \\times i$ kann so in einem kartesischen Koordinatensystem als Punkt $P$ in der Ebene dargestellt werden. Dieser Punkt $P$ hat den realen Anteil $a$ als x-Koordinate und den imaginären Anteil $b$ als y-Koordinate. $i^2$ ist in dem Fall -1.\n",
    "Dieser Punkt $P$ kann jedoch auch als Vektor vom Ursprung zu diesem Punkt dargestellt werden. Der sogenannte Ortsvektor zum Punkt $P$."
   ]
  },
  {
   "cell_type": "markdown",
   "id": "b4ac0b0b258f1ee5",
   "metadata": {},
   "source": [
    "### kartesische vs. Polarkoordinaten\n",
    "Wie bereits im vorhergehenden Abschnitt erwähnt, können komplexe Zahlen als ein Punkt im kartesischen Koordinatensystem dargestellt werden, mit sogenannten kartesischen Koordinaten.\n",
    "Es gibt jedoch noch eine andere Schreibweise Vektoren, bzw. komplexe Zahlen darzustellen, welche unter anderem auch für die Vektorrotation benötigt wird. Die sogenannten Polarkoordinaten.\n",
    "Der Gedanke hinter dieser Darstellung ist, dass man eine Zahl $r$ hat, welche den Betrag des Ortsvektors zum Punkt $P$ bzw. er komplexen Zahl $c$ angibt, und einen Winkel $\\phi$, welcher den Winkel des Vektors zur Realachse, also der x-Achse angibt. Damit kann man ebenfalls den Ortsvektor bestimmen und damit auch die komplexe Zahl $c$."
   ]
  },
  {
   "metadata": {},
   "cell_type": "markdown",
   "source": [
    "## Vektoren\n",
    "\n",
    "Damit wir Vektoren überhaupt erst rotieren können, brauchen wir erstmal eine Klasse, welchen unseren Vektor repräsentiert. Die nachfolgende Klasse implementiert die Basisfunktionalität eines Vektors."
   ],
   "id": "6ba8ef3ead335038"
  },
  {
   "metadata": {
    "ExecuteTime": {
     "end_time": "2025-02-04T09:19:44.731774Z",
     "start_time": "2025-02-04T09:19:33.477320Z"
    }
   },
   "cell_type": "code",
   "source": [
    "from complex import ComplexNumber\n",
    "\n",
    "class VectorEqualError(Exception):\n",
    "\n",
    "    @classmethod\n",
    "    def get_description(cls):\n",
    "        return \"Vectors can't be compared, most likely one parameter isn't a vector\"\n",
    "\n",
    "class VectorTypeError(Exception):\n",
    "\n",
    "    @classmethod\n",
    "    def get_description(cls):\n",
    "        return \"Vector components must be of type int or float\"\n",
    "\n",
    "\n",
    "class Vector:\n",
    "\n",
    "    def __init__(self, x, y):\n",
    "        if isinstance(x, (int, float)) and isinstance(y, (int, float)):\n",
    "            self.x = x\n",
    "            self.y = y\n",
    "        else:\n",
    "            raise VectorTypeError()\n",
    "\n",
    "    def __str__(self):\n",
    "        return f\"Vector({self.x}, {self.y})\"\n",
    "\n",
    "    def __add__(self, other):\n",
    "        if isinstance(other, Vector):\n",
    "            return Vector(self.x + other.x, self.y + other.y)\n",
    "        raise VectorTypeError\n",
    "\n",
    "    def __sub__(self, other):\n",
    "        if isinstance(other, Vector):\n",
    "            return Vector(self.x - other.x, self.y - other.y)\n",
    "        raise VectorTypeError\n",
    "\n",
    "    def __eq__(self, other):\n",
    "        if isinstance(other, Vector):\n",
    "            return self.x == other.x and self.y == other.y\n",
    "        raise VectorEqualError\n",
    "\n",
    "    def rotate_complete(self, angle):\n",
    "        if not isinstance(angle, (int, float)):\n",
    "            raise VectorTypeError()\n",
    "        c = ComplexNumber(self.x, self.y)\n",
    "        rad = angle * (pi / 180)\n",
    "        # real * cos = real number.\n",
    "        # imag * sin = real number, because imag and sin each contain i (i^2 = -1).\n",
    "        # real * sin = imag number, because sin contains i.\n",
    "        # imag * cos = imag number, because imag contains i.\n",
    "        rotated_real = c.real * cos(rad) - c.imag * sin(rad)\n",
    "        rotated_imag = c.real * sin(rad) + c.imag * cos(rad)\n",
    "        rotated_c = ComplexNumber(rotated_real, rotated_imag)\n",
    "        return Vector(rotated_c.real, rotated_c.imag)\n",
    "\n",
    "    def rotate(self, angle):\n",
    "        if not isinstance(angle, (int, float)):\n",
    "            raise VectorTypeError()\n",
    "        c = ComplexNumber(self.x, self.y)\n",
    "        rad = angle * (pi / 180)\n",
    "        # real * cos = real number.\n",
    "        # imag * sin = real number, because imag and sin each contain i (i^2 = -1).\n",
    "        # real * sin = imag number, because sin contains i.\n",
    "        # imag * cos = imag number, because imag contains i.\n",
    "        rotated_real = round(c.real * cos(rad) - c.imag * sin(rad))\n",
    "        rotated_imag = round(c.real * sin(rad) + c.imag * cos(rad))\n",
    "        rotated_c = ComplexNumber(rotated_real, rotated_imag)\n",
    "        return Vector(rotated_c.real, rotated_c.imag)\n"
   ],
   "id": "5618f36a8ca8247e",
   "outputs": [],
   "execution_count": 2
  },
  {
   "cell_type": "markdown",
   "id": "92276adf0eb4c8c4",
   "metadata": {},
   "source": [
    "## Rotation\n",
    "Wir können das vorhergehende Wissen und die oben stehende Vektorklasse nun nutzen, um einen gegebenen Vektor im Realraum mittels einer imaginären Zahl $c$ um einen gegebenen Winkel $\\omega$ zu rotieren. Betrachten wir hierzu noch einmal die rotate Funktion"
   ]
  },
  {
   "cell_type": "code",
   "id": "adcbf342215ae9e7",
   "metadata": {
    "ExecuteTime": {
     "end_time": "2025-02-04T09:19:48.165161Z",
     "start_time": "2025-02-04T09:19:48.160028Z"
    }
   },
   "source": [
    "from math import cos, sin, pi\n",
    "\n",
    "def rotate(self, angle):\n",
    "    if not isinstance(angle, (int, float)):\n",
    "        raise VectorTypeError()\n",
    "    # Erstellen einer komplexen Zahl für die Rotation\n",
    "    c = ComplexNumber(self.x, self.y)\n",
    "    # Berechnung in Bogenmaß\n",
    "    rad = angle * (pi / 180)\n",
    "    # Berechnung der Vektorrotation\n",
    "    rotated_real = round(c.real * cos(rad) - c.imag * sin(rad))\n",
    "    rotated_imag = round(c.real * sin(rad) + c.imag * cos(rad))\n",
    "    # Erstellen neuer komplexer Zahl zur Darstellung des rotierten Vektors\n",
    "    rotated_c = ComplexNumber(rotated_real, rotated_imag)\n",
    "    # Rückgabe eines neuen Vektors mit den neuen Koordinaten\n",
    "    return Vector(rotated_c.real, rotated_c.imag)"
   ],
   "outputs": [],
   "execution_count": 3
  },
  {
   "cell_type": "markdown",
   "id": "b7d64b2f3c7441b4",
   "metadata": {},
   "source": [
    "### Beispiel\n",
    "Nehmen wir einmal den Vektor v(5, 7) und einen Winkel von 85°. Um den Vektor nun zu rotieren, muss nur die folgende Funktion aufgerufen werden:"
   ]
  },
  {
   "cell_type": "code",
   "id": "e8db97759a56aef9",
   "metadata": {
    "ExecuteTime": {
     "end_time": "2025-02-04T09:19:52.132818Z",
     "start_time": "2025-02-04T09:19:52.127133Z"
    }
   },
   "source": [
    "v = Vector(5, 7)\n",
    "print(v.rotate(85))"
   ],
   "outputs": [
    {
     "name": "stdout",
     "output_type": "stream",
     "text": [
      "Vector(-7, 6)\n"
     ]
    }
   ],
   "execution_count": 4
  },
  {
   "cell_type": "markdown",
   "id": "2b2311db553ab957",
   "metadata": {},
   "source": [
    "### Visualisierung\n",
    "Zum besseren Verständnis kann diese Operation mithilfe von Matplotlib nun auch visualisiert werden."
   ]
  },
  {
   "cell_type": "code",
   "id": "4c53c4afa55c250d",
   "metadata": {
    "ExecuteTime": {
     "end_time": "2025-02-04T09:19:56.014238Z",
     "start_time": "2025-02-04T09:19:54.325510Z"
    }
   },
   "source": [
    "# Visualisierung der Vektoren und Rotation\n",
    "import matplotlib.pyplot as plt\n",
    "\n",
    "v = Vector(5, 7)\n",
    "angle = 85\n",
    "rotated_v = v.rotate(angle)\n",
    "\n",
    "plt.figure(figsize=(6, 6))\n",
    "plt.axhline(0, color='gray', linewidth=1.0, linestyle='dashed')\n",
    "plt.axvline(0, color='gray', linewidth=1.0, linestyle='dashed')\n",
    "\n",
    "plt.quiver(0, 0, v.x, v.y, angles='xy', scale_units='xy', scale=1, color='blue', label='Originalvektor')\n",
    "plt.quiver(0, 0, rotated_v.x, rotated_v.y, angles='xy', scale_units='xy', scale=1, color='red', label='Rotierter Vektor')\n",
    "\n",
    "plt.xlim(-10, 10)\n",
    "plt.ylim(-10, 10)\n",
    "plt.gca().set_aspect('equal', adjustable='box')\n",
    "plt.legend()\n",
    "plt.title(f\"2D-Vektorrotation um {angle}°\")\n",
    "plt.grid()\n",
    "plt.show()"
   ],
   "outputs": [
    {
     "data": {
      "text/plain": [
       "<Figure size 600x600 with 1 Axes>"
      ],
      "image/png": "[encoded data removed]"
     },
     "metadata": {},
     "output_type": "display_data"
    }
   ],
   "execution_count": 5
  },
  {
   "metadata": {},
   "cell_type": "markdown",
   "source": [
    "## Tests\n",
    "Mindestens genauso wichtig wie guter Code sind gute Tests. Auch in diesem Fall wurden Tests benutzt, um die Funktionalität des Codes sicherzustellen."
   ],
   "id": "f8386c9c6dca235b"
  },
  {
   "metadata": {
    "ExecuteTime": {
     "end_time": "2025-01-22T17:17:22.084538Z",
     "start_time": "2025-01-22T17:17:22.021155Z"
    }
   },
   "cell_type": "code",
   "source": [
    "import unittest\n",
    "\n",
    "from errors.VectorTypeError import VectorTypeError\n",
    "from errors.VectorEqualError import VectorEqualError\n",
    "\n",
    "class TestVector(unittest.TestCase):\n",
    "    def setUp(self):\n",
    "        self.vector_o = Vector(1, 0)\n",
    "        self.vector_t = Vector(100, 50)\n",
    "\n",
    "    def test_rotate(self):\n",
    "        self.assertEqual(self.vector_o.rotate(90), Vector(0, 1))\n",
    "        self.assertEqual(self.vector_t.rotate(75), Vector(-22, 110))\n",
    "\n",
    "    def test_errors(self):\n",
    "        self.assertRaises(VectorTypeError, self.str_error)\n",
    "        self.assertRaises(VectorEqualError, self.eq_error)\n",
    "        self.assertRaises(VectorTypeError, self.add_error)\n",
    "        self.assertRaises(VectorTypeError, self.rotate_err)\n",
    "\n",
    "    def str_error(self):\n",
    "        v = Vector(\"string\", 100)\n",
    "\n",
    "    def eq_error(self):\n",
    "        self.vector_t == \"Hello\"\n",
    "\n",
    "    def add_error(self):\n",
    "        self.vector_o + 40\n",
    "\n",
    "    def rotate_err(self):\n",
    "        self.vector_o.rotate(\"rotate here\")\n",
    "\n",
    "if __name__ == '__main__':\n",
    "    unittest.main(argv=[''], exit=False)"
   ],
   "id": "faf62d55353c9e5",
   "outputs": [
    {
     "name": "stderr",
     "output_type": "stream",
     "text": [
      "..\n",
      "----------------------------------------------------------------------\n",
      "Ran 2 tests in 0.001s\n",
      "\n",
      "OK\n"
     ]
    }
   ],
   "execution_count": 1
  },
  {
   "cell_type": "markdown",
   "id": "2db2ddb932930cb9",
   "metadata": {},
   "source": [
    "# Footer\n",
    "Projektbeteiligte:\n",
    "* Gregor Gottschewski\n",
    "* Leon Heiner\n",
    "* Marvin Igrec\n",
    "* Julian Schumacher\n",
    "* Daniel Ziegler"
   ]
  }
 ],
 "metadata": {
  "kernelspec": {
   "display_name": "Python 3 (ipykernel)",
   "language": "python",
   "name": "python3"
  },
  "language_info": {
   "codemirror_mode": {
    "name": "ipython",
    "version": 3
   },
   "file_extension": ".py",
   "mimetype": "text/x-python",
   "name": "python",
   "nbconvert_exporter": "python",
   "pygments_lexer": "ipython3",
   "version": "3.13.1"
  }
 },
 "nbformat": 4,
 "nbformat_minor": 5
}
