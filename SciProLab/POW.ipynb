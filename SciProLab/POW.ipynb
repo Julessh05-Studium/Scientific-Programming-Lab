{
 "cells": [
  {
   "cell_type": "code",
   "execution_count": null,
   "metadata": {},
   "outputs": [],
   "source": [
    "def pow(ax):\n",
    "    zahl1 = eingabe(\"Bitte erste komplexe Zahl eingeben: \")\n",
    "    zahl2 = None\n",
    "    while zahl2 is None:\n",
    "        try:\n",
    "            zahl2 = int(input(\"Bitte ganze Potenz eingeben: \"))\n",
    "            if(zahl2<0):\n",
    "                print(\"Negative Zahlen sind nicht erlaubt\")\n",
    "                zahl2=None\n",
    "                continue\n",
    "        except:\n",
    "            print(\"Zahl nicht erkannt\")\n",
    "    zahl = zahl1**zahl2\n",
    "    winke=[]\n",
    "    vektoren=[]\n",
    "    for i in range(zahl2):\n",
    "        tmp = zahl1**(i + 1)\n",
    "        winke.append(winkel(ax, tmp.real, tmp.imag, i + 2))\n",
    "        vektoren.append(plt.quiver([0], [0], [tmp.real], [tmp.imag],\n",
    "               color=f\"#{str(hex((i*12+55)%256))[2:]:02}{str(hex((i*53+1)%256))[2:]:02}{str(hex((i*37+97)%256))[2:]:02}\", scale_units='xy', scale=1, label='zahl1'))\n",
    "    if(zahl2==0):\n",
    "        winke.append(winkel(ax, 0,0,1))\n",
    "        vektoren.append(plt.quiver([0], [0], [1], [0],\n",
    "               color=\"b\", scale_units='xy', scale=1, label='zahl1'))\n",
    "    print(zahl1)\n",
    "    x=plt.quiver([0], [0], [zahl1.real], [zahl1.imag],\n",
    "           color='g', scale_units='xy', scale=1, label='zahl1')\n",
    "        \n",
    "    plt.legend([x, winke[0], vektoren[-1]], ['Zahl1','Winkel','Ergebnis'], loc='upper left')\n",
    "    plt.show()"
   ]
  }
 ],
 "metadata": {
  "kernelspec": {
   "display_name": "Python 3 (ipykernel)",
   "language": "python",
   "name": "python3"
  },
  "language_info": {
   "codemirror_mode": {
    "name": "ipython",
    "version": 3
   },
   "file_extension": ".py",
   "mimetype": "text/x-python",
   "name": "python",
   "nbconvert_exporter": "python",
   "pygments_lexer": "ipython3",
   "version": "3.11.0"
  }
 },
 "nbformat": 4,
 "nbformat_minor": 4
}
