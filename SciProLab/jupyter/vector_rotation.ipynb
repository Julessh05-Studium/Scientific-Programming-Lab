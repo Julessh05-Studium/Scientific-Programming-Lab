{
 "cells": [
  {
   "metadata": {},
   "cell_type": "markdown",
   "source": [
    "# Komplexe Zahlen\n",
    "\n",
    "## Vektorrotation\n",
    "Komplexe Zahlen können genutzt werden, um Vektoren schnell und einfach zu rotieren. Dies wird in vielen Softwarebereichen benutzt, vor allem zum Beispiel in der Spieleindustrie."
   ],
   "id": "96657c8db6cd9f58"
  },
  {
   "metadata": {},
   "cell_type": "markdown",
   "source": [
    "### Grundlagen\n",
    "Um zu verstehen, wie ein Vektor mittels komplexer Zahlen rotiert werden kann, muss erst einmal verstanden werden, wieso Vektoren und komplexe Zahlen sich so ähnlich sind.\n",
    "Die komplexe Zahl $x = a + b \\times i$ kann so in einem kartesischen Koordinatensystem als Punkt $P$ in der Ebene dargestellt werden. Dieser Punkt $P$ hat den realen Anteil $a$ als x-Koordinate und den imaginären Anteil $b$ als y-Koordinate. $i^2$ ist in dem Fall -1.\n",
    "Dieser Punkt $P$ kann jedoch auch als Vektor vom Ursprung zu diesem Punkt dargestellt werden. Der sogenannte Ortsvektor zum Punkt $P$."
   ],
   "id": "451bd28d5a075909"
  },
  {
   "metadata": {},
   "cell_type": "markdown",
   "source": [
    "### kartesische vs. Polarkoordinaten\n",
    "Wie bereits im vorhergehenden Abschnitt erwähnt, können komplexe Zahlen als ein Punkt im kartesischen Koordinatensystem dargestellt werden, mit sogenannten kartesischen Koordinaten.\n",
    "Es gibt jedoch noch eine andere Schreibweise Vektoren, bzw. komplexe Zahlen darzustellen, welche unter anderem auch für die Vektorrotation benötigt wird. Die sogenannten Polarkoordinaten.\n",
    "Der Gedanke hinter dieser Darstellung ist, dass man eine Zahl $r$ hat, welche den Betrag des Ortsvektors zum Punkt $P$ bzw. er komplexen Zahl $c$ angibt, und einen Winkel $\\phi$, welcher den Winkel des Vektors zur Realachse, also der x-Achse angibt. Damit kann man ebenfalls den Ortsvektor bestimmen und damit auch die komplexe Zahl $c$."
   ],
   "id": "b4ac0b0b258f1ee5"
  },
  {
   "metadata": {},
   "cell_type": "markdown",
   "source": [
    "### Rotation\n",
    "Wir können dieses Wissen nun nutzen, um einen gegebenen Vektor im Realraum mittels einer imaginären Zahl $c$ um einen gegebenen Winkel $\\omega$ zu rotieren."
   ],
   "id": "92276adf0eb4c8c4"
  },
  {
   "metadata": {},
   "cell_type": "code",
   "outputs": [],
   "execution_count": null,
   "source": [
    "from complex_jupyter import ComplexNumber\n",
    "from vector_rotation_jupyter import Vector\n",
    "from math import cos, sin, pi\n",
    "\n",
    "def rotate(self, angle):\n",
    "    c = ComplexNumber(self.x, self.y)\n",
    "    rad = angle * (pi / 180)\n",
    "    # real * cos = real number.\n",
    "    # imag * sin = real number, because imag and sin each contain i (i^2 = -1).\n",
    "    # real * sin = imag number, because sin contains i.\n",
    "    # imag * cos = imag number, because imag contains i.\n",
    "    rotated_real = c.real * cos(rad) - c.imag * sin(rad)\n",
    "    rotated_imag = c.real * sin(rad) + c.imag * cos(rad)\n",
    "    rotated_c = ComplexNumber(rotated_real, rotated_imag)\n",
    "    return Vector(rotated_c.real, rotated_c.imag)"
   ],
   "id": "adcbf342215ae9e7"
  },
  {
   "metadata": {},
   "cell_type": "markdown",
   "source": [
    "# Footer\n",
    "Projektbeteiligte:\n",
    "* Gregor Gottschewski\n",
    "* Leon Heiner\n",
    "* Marvin Igrec\n",
    "* Julian Schumacher\n",
    "* Daniel Ziegler"
   ],
   "id": "2db2ddb932930cb9"
  }
 ],
 "metadata": {
  "kernelspec": {
   "display_name": "Python 3",
   "language": "python",
   "name": "python3"
  },
  "language_info": {
   "codemirror_mode": {
    "name": "ipython",
    "version": 2
   },
   "file_extension": ".py",
   "mimetype": "text/x-python",
   "name": "python",
   "nbconvert_exporter": "python",
   "pygments_lexer": "ipython2",
   "version": "2.7.6"
  }
 },
 "nbformat": 4,
 "nbformat_minor": 5
}
